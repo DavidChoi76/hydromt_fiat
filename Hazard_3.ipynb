{
 "cells": [
  {
   "cell_type": "code",
   "execution_count": 20,
   "metadata": {},
   "outputs": [],
   "source": [
    "# import python libraries\n",
    "import os\n",
    "# from pprint import pprint\n",
    "# import matplotlib.pyplot as plt\n",
    "# import xarray as xr\n",
    "# import rioxarray\n",
    "# import geopandas as gpd\n",
    "# import pandas as pd\n",
    "\n",
    "# import hydromt and setup logging\n",
    "import hydromt\n",
    "from hydromt.log import setuplog"
   ]
  },
  {
   "cell_type": "code",
   "execution_count": 21,
   "metadata": {},
   "outputs": [
    {
     "name": "stdout",
     "output_type": "stream",
     "text": [
      "2023-03-12 15:52:23,889 - prepare data catalog - log - INFO - HydroMT version: 0.7.0\n"
     ]
    }
   ],
   "source": [
    "fiat_logger = setuplog(\"prepare data catalog\", log_level=10)\n",
    "fiat_path   = \"C:\\\\Users\\\\fuentesm\\\\CISNE\\\\HydroMT_sprint_sessions\\\\Model_Builder\"\n",
    "fiat_crs        = 4326\n",
    "fiat_layers =[\"Current_prob_event_set_combined_doNothing_withSeaWall_RP=1_max_flood_depth\"] #,\"Current_prob_event_set_combined_doNothing_withSeaWall_RP=2_max_flood_depth\"]"
   ]
  },
  {
   "cell_type": "code",
   "execution_count": 22,
   "metadata": {},
   "outputs": [],
   "source": [
    "def write_yml(fiat_path:str,crs:str):\n",
    "    yml_str = f\"\"\"\n",
    "    meta:\n",
    "      root: {fiat_path}\n",
    "\n",
    "    merit_hydro_local:\n",
    "      data_type: RasterDataset\n",
    "      driver: raster\n",
    "      kwargs:\n",
    "        chunks:\n",
    "          x: 6000\n",
    "          y: 6000\n",
    "      meta:\n",
    "        category: topography\n",
    "      rename:\n",
    "        hnd: height_above_nearest_drain\n",
    "      path: merit_hydro/*.tif\n",
    "\n",
    "    max_depth:\n",
    "      path: Hazard/kingTide_SLR_max_flood_depth.tif\n",
    "      data_type: RasterDataset\n",
    "      driver: raster\n",
    "      crs: {crs}\n",
    "      meta:\n",
    "        category: flood \n",
    "\n",
    "    flood_maps:\n",
    "      path: Hazard/*.tif\n",
    "      data_type: RasterDataset\n",
    "      driver: raster\n",
    "      crs: {crs}\n",
    "      meta:\n",
    "        category: flood \n",
    "\n",
    "    flood_maps_varaible:\n",
    "      path: Hazard/{{variable}}.tif\n",
    "      data_type: RasterDataset\n",
    "      driver: raster\n",
    "      crs: {crs}\n",
    "      meta:\n",
    "        category: flood\n",
    "\n",
    "    vito_local:\n",
    "      path: vito.tif\n",
    "      data_type: RasterDataset\n",
    "      driver: raster\n",
    "      crs: {crs}\n",
    "      meta:\n",
    "          category: landuse\n",
    "\n",
    "    exposure:\n",
    "        path: NSI_Charleston/charleston_test_dataset_EPGS4326.shp\n",
    "        data_type: GeoDataFrame\n",
    "        driver: vector\n",
    "        crs: {crs}\n",
    "        meta:\n",
    "          category: expusure\n",
    "\n",
    "    vulnerability:\n",
    "        path: Vulnerability/AllDDF.xlsx\n",
    "        data_type: DataFrame\n",
    "        driver: xlsx\n",
    "        meta:\n",
    "          category: vulnerability\n",
    "\n",
    "    social_vulnerability:\n",
    "        path: Social_Vulnerability/\n",
    "        data_type: DataFrame\n",
    "        driver: xlsx\n",
    "        meta:\n",
    "          category: social_vulnerability\n",
    "\n",
    "    \"\"\"\n",
    "    # overwrite data catalog\n",
    "    data_lib = fiat_path + \"/fiat_catalog.yml\"\n",
    "\n",
    "    with open(data_lib, mode=\"w\") as f:\n",
    "        f.write(yml_str)\n",
    "    return data_lib\n",
    "\n",
    "\n",
    "def read_raster(data_lib:str,logger,raster_name:str, layers):\n",
    "    #data_catalog = hydromt.DataCatalog(data_libs=[\"artifact_data=v0.0.6\"])\n",
    "    data_catalog = hydromt.DataCatalog(data_libs=[data_lib], logger=logger)\n",
    "    print(data_catalog.sources.keys())\n",
    "    da = data_catalog.get_rasterdataset(raster_name, variables=layers)\n",
    "    return da"
   ]
  },
  {
   "cell_type": "code",
   "execution_count": 26,
   "metadata": {},
   "outputs": [
    {
     "name": "stdout",
     "output_type": "stream",
     "text": [
      "2023-03-12 15:53:24,458 - prepare data catalog - data_catalog - INFO - Parsing data catalog from C:\\Users\\fuentesm\\CISNE\\HydroMT_sprint_sessions\\Model_Builder/fiat_catalog.yml\n",
      "dict_keys(['merit_hydro_local', 'max_depth', 'flood_maps', 'flood_maps_varaible', 'vito_local', 'exposure', 'vulnerability', 'social_vulnerability'])\n",
      "2023-03-12 15:53:24,470 - prepare data catalog - data_catalog - INFO - DataCatalog: Getting flood_maps_varaible RasterDataset raster data from C:\\Users\\fuentesm\\CISNE\\HydroMT_sprint_sessions\\Model_Builder\\Hazard\\{variable}.tif\n",
      "2023-03-12 15:53:24,767 - prepare data catalog - data_catalog - INFO - Parsing data catalog from C:\\Users\\fuentesm\\CISNE\\HydroMT_sprint_sessions\\Model_Builder/fiat_catalog.yml\n",
      "dict_keys(['merit_hydro_local', 'max_depth', 'flood_maps', 'flood_maps_varaible', 'vito_local', 'exposure', 'vulnerability', 'social_vulnerability'])\n",
      "2023-03-12 15:53:24,779 - prepare data catalog - data_catalog - INFO - DataCatalog: Getting exposure RasterDataset vector data from C:\\Users\\fuentesm\\CISNE\\HydroMT_sprint_sessions\\Model_Builder\\NSI_Charleston\\charleston_test_dataset_EPGS4326.shp\n",
      "2023-03-12 15:53:24,782 - prepare data catalog - geodataframe - INFO - GeoDataFrame: Read vector data.\n",
      "2023-03-12 15:54:00,368 - prepare data catalog - data_catalog - INFO - Parsing data catalog from C:\\Users\\fuentesm\\CISNE\\HydroMT_sprint_sessions\\Model_Builder/fiat_catalog.yml\n",
      "dict_keys(['merit_hydro_local', 'max_depth', 'flood_maps', 'flood_maps_varaible', 'vito_local', 'exposure', 'vulnerability', 'social_vulnerability'])\n",
      "2023-03-12 15:54:00,389 - prepare data catalog - data_catalog - INFO - DataCatalog: Getting vulnerability RasterDataset xlsx data from C:\\Users\\fuentesm\\CISNE\\HydroMT_sprint_sessions\\Model_Builder\\Vulnerability\\AllDDF.xlsx\n",
      "2023-03-12 15:54:00,391 - prepare data catalog - dataframe - INFO - DataFrame: Read xlsx data.\n"
     ]
    }
   ],
   "source": [
    "fiat_data_lib        = write_yml(fiat_path, fiat_crs)\n",
    "flood_maps           = read_raster(fiat_data_lib,fiat_logger, \"flood_maps_varaible\", None)\n",
    "exposure             = read_raster(fiat_data_lib,fiat_logger, \"exposure\", None)\n",
    "vulnerability        = read_raster(fiat_data_lib,fiat_logger, \"vulnerability\", None)\n",
    "#social_vulnerability = read_raster(fiat_data_lib,fiat_logger, \"social_vulnerability\", None)"
   ]
  },
  {
   "cell_type": "code",
   "execution_count": 24,
   "metadata": {},
   "outputs": [
    {
     "name": "stdout",
     "output_type": "stream",
     "text": [
      "<class 'xarray.core.dataarray.DataArray'>\n",
      "<class 'geopandas.geodataframe.GeoDataFrame'>\n",
      "<class 'pandas.core.frame.DataFrame'>\n"
     ]
    }
   ],
   "source": [
    "print(type(flood_maps))\n",
    "print(type(exposure))\n",
    "print(type(vulnerability))\n",
    "#print(type(social_vulnerability))"
   ]
  },
  {
   "cell_type": "code",
   "execution_count": 30,
   "metadata": {},
   "outputs": [
    {
     "data": {
      "text/plain": [
       "['Current_prob_event_set_combined_doNothing_withSeaWall_RP=5_max_flood_depth',\n",
       " 'Current_prob_event_set_combined_doNothing_withSeaWall_RP=50_max_flood_depth',\n",
       " 'Current_prob_event_set_combined_doNothing_withSeaWall_RP=10_max_flood_depth',\n",
       " 'Current_prob_event_set_combined_doNothing_withSeaWall_RP=1_max_flood_depth',\n",
       " 'Current_prob_event_set_combined_doNothing_withSeaWall_RP=25_max_flood_depth',\n",
       " 'Current_prob_event_set_combined_doNothing_withSeaWall_RP=100_max_flood_depth',\n",
       " 'Current_prob_event_set_combined_doNothing_withSeaWall_RP=2_max_flood_depth']"
      ]
     },
     "execution_count": 30,
     "metadata": {},
     "output_type": "execute_result"
    }
   ],
   "source": [
    "list(flood_maps.variables)\n",
    "\n",
    "var = [i for i in list(flood_maps.variables) if 'RP' in i]\n",
    "var"
   ]
  }
 ],
 "metadata": {
  "kernelspec": {
   "display_name": "hydromt-wflow",
   "language": "python",
   "name": "python3"
  },
  "language_info": {
   "codemirror_mode": {
    "name": "ipython",
    "version": 3
   },
   "file_extension": ".py",
   "mimetype": "text/x-python",
   "name": "python",
   "nbconvert_exporter": "python",
   "pygments_lexer": "ipython3",
   "version": "3.10.9"
  },
  "orig_nbformat": 4
 },
 "nbformat": 4,
 "nbformat_minor": 2
}
