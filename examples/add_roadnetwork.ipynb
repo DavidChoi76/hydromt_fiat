{
 "cells": [
  {
   "cell_type": "markdown",
   "metadata": {},
   "source": [
    "# **Example Road Network**"
   ]
  },
  {
   "cell_type": "markdown",
   "metadata": {},
   "source": [
    "Roads are vital to the infrastructure of a community and, when blocked and/or (partially) destroyed \n",
    "cause numerous issues for various players. Therefore, it is imperative to assess the impact of loss in mobility when analyzing flood events and other hazards. \n",
    "\n",
    "FIAT offers a tool to compute the monetary impact of the road blockage/destruction based on the **extent of the hazard, the road type (e.g. motorway, trunk, primary roads), and the number of lanes.**\n",
    "\n",
    "Users can either download data from Open Street Map (OSM) through the tool or ingest their own road network data.\n",
    "\n",
    "OSM offers detailed information about the road network such as the roadtype and the number of lanes, which are obligatory to calculate the flood impact. **This notebook will cover the road impact assessment based on OSM.**\n",
    "\n",
    ">*Note: If the user wants to use their own data they musst assure to deliver the **number of lanes per segment***."
   ]
  },
  {
   "cell_type": "markdown",
   "metadata": {},
   "source": [
    "## Let's get started!"
   ]
  },
  {
   "cell_type": "markdown",
   "metadata": {},
   "source": [
    "# **Step 1**: Import required packages"
   ]
  },
  {
   "cell_type": "code",
   "execution_count": 5,
   "metadata": {},
   "outputs": [],
   "source": [
    "# First, all required packages must be installed.\n",
    "\n",
    "from hydromt_fiat.fiat import FiatModel\n",
    "from hydromt.log import setuplog\n",
    "from pathlib import Path\n",
    "import pytest\n",
    "import shutil\n",
    "import geopandas as gpd\n",
    "import pandas as pd\n",
    "import os \n",
    "import json\n",
    "import yaml"
   ]
  },
  {
   "cell_type": "markdown",
   "metadata": {},
   "source": [
    "# **Step 2:** Define the study area"
   ]
  },
  {
   "cell_type": "markdown",
   "metadata": {},
   "source": [
    "FIAT requires the input of a region to download the OSM road dataset. This can be done via vectorfile of a polygon or GeoJSON object. We recommened to download the region from [Geojson.io](https://geojson.io/#map=2/0/20). \n",
    "\n",
    "Draw a polygon on the map and create a polygon from the GeoJson Object. When you download the file path, refer to it in the \"region\" tab in the *yaml* file. You can also copy the GeoJson code directly into the configuration file (see example in [configuration file](C:/Users/rautenba/hydromt_fiat/examples/data/road_network/configuration.yml))"
   ]
  },
  {
   "cell_type": "markdown",
   "metadata": {},
   "source": [
    "# **Step 3:** Create a configuration file "
   ]
  },
  {
   "cell_type": "markdown",
   "metadata": {},
   "source": [
    "FIAT requires a configuration file in form of a *yaml*-file or a dictionary, in which the model parameters are defined. The configuration file must define the vulnerability and the exposure setup.\n",
    "The required fields are:\n",
    "  \n",
    "*setup_road_vulnerability:*\n",
    "- **vertical_unit**:Unit of vertical inundation (feet or meter)\n",
    "- **threshold_value**: Threshold inundation height at which road is fully destroyed \n",
    "- **min_hazard_value**: minimum inundation height (recommended: 0)\n",
    "- **max_hazard_value**: maximum inundation height (e.g. 6 meters) \n",
    "- **step_hazard_value**: discrete levels or steps of inundation height\n",
    "\n",
    "*setup_exposure_roads:*\n",
    "- **roads_fn**: File path to road network file or OSM data (for OSM data use: \"OSM\")\n",
    "- **road_types**: Road type keys from OSM (e.g. \"motorway\", \"primary\")\n",
    "- **road_damage**: \"default_road_max_potential_damages\",\n",
    "- **unit**: Unit of road length (feet or meter)\n",
    "\n",
    "*region:*\n",
    "- **region**: pre-defined region in form of a dictionary or shapely polygon\n",
    "\n",
    "The specified parameters must be ingested into the *yaml* construct. Please check [here](C:/Users/rautenba/hydromt_fiat/examples/data/road_network/configuration.yml) for the setup of the *yaml* file. "
   ]
  },
  {
   "cell_type": "markdown",
   "metadata": {},
   "source": [
    "## **Step 3.1:** Load the information of the <em>yaml</em> file"
   ]
  },
  {
   "cell_type": "markdown",
   "metadata": {},
   "source": [
    "The *yaml* file is located in the \"example\"/ \"data\" / \"road_network\"  - folder.  \n",
    "The information in the file are converted into a python dictionary. </p>\n",
    "<p><em>Note: Instead of loading a yaml file it is possible to create a python dictionary directly, built upon the structure seen below.</em></p>"
   ]
  },
  {
   "cell_type": "code",
   "execution_count": 124,
   "metadata": {},
   "outputs": [
    {
     "name": "stdout",
     "output_type": "stream",
     "text": [
      "{\n",
      "    \"cases\": {\n",
      "        \"roads_from_OSM\": {\n",
      "            \"data_catalogue\": \"C:/Users/rautenba/hydromt_fiat/examples/data/road_network/hydromt_fiat_catalog_USA.yml\",\n",
      "            \"dir\": \"test_roads_from_OSM\"\n",
      "        },\n",
      "        \"road_network\": {\n",
      "            \"new_root\": \"./data/road_network/output/road_network_example\",\n",
      "            \"configuration\": {\n",
      "                \"setup_road_vulnerability\": {\n",
      "                    \"vertical_unit\": \"feet\",\n",
      "                    \"threshold_value\": 0.6,\n",
      "                    \"min_hazard_value\": 0,\n",
      "                    \"max_hazard_value\": 10,\n",
      "                    \"step_hazard_value\": 1\n",
      "                },\n",
      "                \"setup_exposure_roads\": {\n",
      "                    \"roads_fn\": \"OSM\",\n",
      "                    \"road_types\": [\n",
      "                        \"motorway\",\n",
      "                        \"primary\",\n",
      "                        \"secondary\",\n",
      "                        \"tertiary\"\n",
      "                    ],\n",
      "                    \"road_damage\": \"default_road_max_potential_damages\",\n",
      "                    \"unit\": \"meter\"\n",
      "                }\n",
      "            }\n",
      "        },\n",
      "        \"region\": {\n",
      "            \"type\": \"FeatureCollection\",\n",
      "            \"features\": [\n",
      "                {\n",
      "                    \"type\": \"Feature\",\n",
      "                    \"properties\": {},\n",
      "                    \"geometry\": {\n",
      "                        \"type\": \"Polygon\",\n",
      "                        \"coordinates\": [\n",
      "                            [\n",
      "                                [\n",
      "                                    -79.92169686568795,\n",
      "                                    32.768208904171374\n",
      "                                ],\n",
      "                                [\n",
      "                                    -79.92169686568795,\n",
      "                                    32.77745096033627\n",
      "                                ],\n",
      "                                [\n",
      "                                    -79.94881762529997,\n",
      "                                    32.77745096033627\n",
      "                                ],\n",
      "                                [\n",
      "                                    -79.94881762529997,\n",
      "                                    32.768208904171374\n",
      "                                ],\n",
      "                                [\n",
      "                                    -79.92169686568795,\n",
      "                                    32.768208904171374\n",
      "                                ]\n",
      "                            ]\n",
      "                        ]\n",
      "                    }\n",
      "                }\n",
      "            ]\n",
      "        }\n",
      "    }\n",
      "}\n"
     ]
    }
   ],
   "source": [
    "#Let's read the yaml file with the required information \n",
    "#and set up the FIAT model for the road network.\n",
    "\n",
    "with open(Path(os.path.abspath(\"\")) / \"data\" / \"road_network\" / \"configuration.yml\", 'r') as file:\n",
    "    _cases = yaml.safe_load(file)\n",
    "\n",
    "print(json.dumps(_cases, indent=4, sort_keys=False))"
   ]
  },
  {
   "cell_type": "markdown",
   "metadata": {},
   "source": [
    "# **Step 4**: <strong>Define variables for the FIAT model</strong>"
   ]
  },
  {
   "cell_type": "markdown",
   "metadata": {},
   "source": [
    "Set up the root path to the FIAT model and the logger settings to re-build your model:\n",
    "- `root`: Directory path from where the neccessary data for the FIAT model is stored.  </p>\n",
    "- `logger`: The logger variable defines the frequencies of log-entries during the initialisation of the model.\n",
    "- `region`: Define the region as a variable from the case dictionary.\n",
    "- `data_catalog_yml`: Define the data catalogue as a variable from the case dictionary.</p>\n",
    "\n"
   ]
  },
  {
   "cell_type": "code",
   "execution_count": 118,
   "metadata": {},
   "outputs": [
    {
     "name": "stdout",
     "output_type": "stream",
     "text": [
      "2023-10-23 16:03:50,225 - hydromt_fiat - log - INFO - HydroMT version: 0.8.0\n"
     ]
    },
    {
     "name": "stderr",
     "output_type": "stream",
     "text": [
      "INFO:hydromt_fiat:HydroMT version: 0.8.0\n"
     ]
    }
   ],
   "source": [
    "# Set up Fiat Model\n",
    "root = Path(os.path.abspath(\"\"))  / \"data\" / \"road_network\"\n",
    "\n",
    "# Set up the logger\n",
    "logger = setuplog(\"hydromt_fiat\", log_level=10)\n",
    "\n",
    "# Set up region\n",
    "region = _cases[\"cases\"][\"region\"]\n",
    "\n",
    "# Set up datacatalog\n",
    "data_catalog_yml = str(_cases[\"cases\"][\"roads_from_OSM\"][\"data_catalogue\"])"
   ]
  },
  {
   "cell_type": "markdown",
   "metadata": {},
   "source": [
    "# **Step 4:** Run the FIAT model"
   ]
  },
  {
   "cell_type": "markdown",
   "metadata": {},
   "source": [
    "It's time to run the model with the new configuration of the riad network. The output will be \n",
    "stored in the root-directory. The output will be an **exposure folder** incl. *exposure.csv* together with vector data files, a **hazard folder** (empty) and a **vulnerability folder** incl. *damage_curve.csv*. "
   ]
  },
  {
   "cell_type": "code",
   "execution_count": 119,
   "metadata": {},
   "outputs": [
    {
     "name": "stdout",
     "output_type": "stream",
     "text": [
      "2023-10-23 16:03:52,501 - hydromt_fiat - data_catalog - INFO - Parsing data catalog from ./hydromt_fiat_catalog_USA.yml\n"
     ]
    },
    {
     "name": "stderr",
     "output_type": "stream",
     "text": [
      "INFO:hydromt_fiat:Parsing data catalog from ./hydromt_fiat_catalog_USA.yml\n"
     ]
    },
    {
     "ename": "FileNotFoundError",
     "evalue": "[Errno 2] No such file or directory: './hydromt_fiat_catalog_USA.yml'",
     "output_type": "error",
     "traceback": [
      "\u001b[1;31m---------------------------------------------------------------------------\u001b[0m",
      "\u001b[1;31mFileNotFoundError\u001b[0m                         Traceback (most recent call last)",
      "\u001b[1;32mc:\\Users\\rautenba\\hydromt_fiat\\examples\\add_roadnetwork.ipynb Cell 16\u001b[0m line \u001b[0;36m1\n\u001b[1;32m----> <a href='vscode-notebook-cell:/c%3A/Users/rautenba/hydromt_fiat/examples/add_roadnetwork.ipynb#X46sZmlsZQ%3D%3D?line=0'>1</a>\u001b[0m fm \u001b[39m=\u001b[39m FiatModel(root\u001b[39m=\u001b[39;49mroot, mode\u001b[39m=\u001b[39;49m\u001b[39m\"\u001b[39;49m\u001b[39mw+\u001b[39;49m\u001b[39m\"\u001b[39;49m, data_libs\u001b[39m=\u001b[39;49m[data_catalog_yml], logger\u001b[39m=\u001b[39;49mlogger)\n\u001b[0;32m      <a href='vscode-notebook-cell:/c%3A/Users/rautenba/hydromt_fiat/examples/add_roadnetwork.ipynb#X46sZmlsZQ%3D%3D?line=1'>2</a>\u001b[0m region \u001b[39m=\u001b[39m gpd\u001b[39m.\u001b[39mGeoDataFrame\u001b[39m.\u001b[39mfrom_features(_cases[\u001b[39m\"\u001b[39m\u001b[39mcases\u001b[39m\u001b[39m\"\u001b[39m][\u001b[39m\"\u001b[39m\u001b[39mregion\u001b[39m\u001b[39m\"\u001b[39m], crs\u001b[39m=\u001b[39m\u001b[39m4326\u001b[39m)\n\u001b[0;32m      <a href='vscode-notebook-cell:/c%3A/Users/rautenba/hydromt_fiat/examples/add_roadnetwork.ipynb#X46sZmlsZQ%3D%3D?line=2'>3</a>\u001b[0m fm\u001b[39m.\u001b[39mbuild(region\u001b[39m=\u001b[39m{\u001b[39m\"\u001b[39m\u001b[39mgeom\u001b[39m\u001b[39m\"\u001b[39m: region}, opt\u001b[39m=\u001b[39m_cases[\u001b[39m\"\u001b[39m\u001b[39mcases\u001b[39m\u001b[39m\"\u001b[39m][\u001b[39m\"\u001b[39m\u001b[39mroad_network\u001b[39m\u001b[39m\"\u001b[39m][\u001b[39m\"\u001b[39m\u001b[39mconfiguration\u001b[39m\u001b[39m\"\u001b[39m])\n",
      "File \u001b[1;32m~\\hydromt_fiat\\hydromt_fiat\\fiat.py:57\u001b[0m, in \u001b[0;36mFiatModel.__init__\u001b[1;34m(self, root, mode, config_fn, data_libs, logger)\u001b[0m\n\u001b[0;32m     49\u001b[0m \u001b[39mdef\u001b[39;00m \u001b[39m__init__\u001b[39m(\n\u001b[0;32m     50\u001b[0m     \u001b[39mself\u001b[39m,\n\u001b[0;32m     51\u001b[0m     root\u001b[39m=\u001b[39m\u001b[39mNone\u001b[39;00m,\n\u001b[1;32m   (...)\u001b[0m\n\u001b[0;32m     55\u001b[0m     logger\u001b[39m=\u001b[39m_logger,\n\u001b[0;32m     56\u001b[0m ):\n\u001b[1;32m---> 57\u001b[0m     \u001b[39msuper\u001b[39;49m()\u001b[39m.\u001b[39;49m\u001b[39m__init__\u001b[39;49m(\n\u001b[0;32m     58\u001b[0m         root\u001b[39m=\u001b[39;49mroot,\n\u001b[0;32m     59\u001b[0m         mode\u001b[39m=\u001b[39;49mmode,\n\u001b[0;32m     60\u001b[0m         config_fn\u001b[39m=\u001b[39;49mconfig_fn,\n\u001b[0;32m     61\u001b[0m         data_libs\u001b[39m=\u001b[39;49mdata_libs,\n\u001b[0;32m     62\u001b[0m         logger\u001b[39m=\u001b[39;49mlogger,\n\u001b[0;32m     63\u001b[0m     )\n\u001b[0;32m     64\u001b[0m     \u001b[39mself\u001b[39m\u001b[39m.\u001b[39m_tables \u001b[39m=\u001b[39m \u001b[39mdict\u001b[39m()  \u001b[39m# Dictionary of tables to write\u001b[39;00m\n\u001b[0;32m     65\u001b[0m     \u001b[39mself\u001b[39m\u001b[39m.\u001b[39mexposure \u001b[39m=\u001b[39m \u001b[39mNone\u001b[39;00m\n",
      "File \u001b[1;32mc:\\Users\\rautenba\\AppData\\Local\\mambaforge\\envs\\hydromt-fiat-dev\\lib\\site-packages\\hydromt\\models\\model_grid.py:439\u001b[0m, in \u001b[0;36mGridModel.__init__\u001b[1;34m(self, root, mode, config_fn, data_libs, logger)\u001b[0m\n\u001b[0;32m    430\u001b[0m \u001b[39mdef\u001b[39;00m \u001b[39m__init__\u001b[39m(\n\u001b[0;32m    431\u001b[0m     \u001b[39mself\u001b[39m,\n\u001b[0;32m    432\u001b[0m     root: \u001b[39mstr\u001b[39m \u001b[39m=\u001b[39m \u001b[39mNone\u001b[39;00m,\n\u001b[1;32m   (...)\u001b[0m\n\u001b[0;32m    436\u001b[0m     logger\u001b[39m=\u001b[39mlogger,\n\u001b[0;32m    437\u001b[0m ):\n\u001b[0;32m    438\u001b[0m \u001b[39m    \u001b[39m\u001b[39m\"\"\"Initialize a GridModel for distributed models with a regular grid.\"\"\"\u001b[39;00m\n\u001b[1;32m--> 439\u001b[0m     \u001b[39msuper\u001b[39;49m()\u001b[39m.\u001b[39;49m\u001b[39m__init__\u001b[39;49m(\n\u001b[0;32m    440\u001b[0m         root\u001b[39m=\u001b[39;49mroot,\n\u001b[0;32m    441\u001b[0m         mode\u001b[39m=\u001b[39;49mmode,\n\u001b[0;32m    442\u001b[0m         config_fn\u001b[39m=\u001b[39;49mconfig_fn,\n\u001b[0;32m    443\u001b[0m         data_libs\u001b[39m=\u001b[39;49mdata_libs,\n\u001b[0;32m    444\u001b[0m         logger\u001b[39m=\u001b[39;49mlogger,\n\u001b[0;32m    445\u001b[0m     )\n",
      "File \u001b[1;32mc:\\Users\\rautenba\\AppData\\Local\\mambaforge\\envs\\hydromt-fiat-dev\\lib\\site-packages\\hydromt\\models\\model_grid.py:30\u001b[0m, in \u001b[0;36mGridMixin.__init__\u001b[1;34m(self, *args, **kwargs)\u001b[0m\n\u001b[0;32m     29\u001b[0m \u001b[39mdef\u001b[39;00m \u001b[39m__init__\u001b[39m(\u001b[39mself\u001b[39m, \u001b[39m*\u001b[39margs, \u001b[39m*\u001b[39m\u001b[39m*\u001b[39mkwargs) \u001b[39m-\u001b[39m\u001b[39m>\u001b[39m \u001b[39mNone\u001b[39;00m:\n\u001b[1;32m---> 30\u001b[0m     \u001b[39msuper\u001b[39m()\u001b[39m.\u001b[39m\u001b[39m__init__\u001b[39m(\u001b[39m*\u001b[39margs, \u001b[39m*\u001b[39m\u001b[39m*\u001b[39mkwargs)\n\u001b[0;32m     31\u001b[0m     \u001b[39mself\u001b[39m\u001b[39m.\u001b[39m_grid \u001b[39m=\u001b[39m xr\u001b[39m.\u001b[39mDataset()\n",
      "File \u001b[1;32mc:\\Users\\rautenba\\AppData\\Local\\mambaforge\\envs\\hydromt-fiat-dev\\lib\\site-packages\\hydromt\\models\\model_api.py:95\u001b[0m, in \u001b[0;36mModel.__init__\u001b[1;34m(self, root, mode, config_fn, data_libs, logger, **artifact_keys)\u001b[0m\n\u001b[0;32m     92\u001b[0m     dist, version \u001b[39m=\u001b[39m ep\u001b[39m.\u001b[39mdistro\u001b[39m.\u001b[39mname, ep\u001b[39m.\u001b[39mdistro\u001b[39m.\u001b[39mversion\n\u001b[0;32m     94\u001b[0m \u001b[39m# link to data\u001b[39;00m\n\u001b[1;32m---> 95\u001b[0m \u001b[39mself\u001b[39m\u001b[39m.\u001b[39mdata_catalog \u001b[39m=\u001b[39m DataCatalog(\n\u001b[0;32m     96\u001b[0m     data_libs\u001b[39m=\u001b[39mdata_libs, logger\u001b[39m=\u001b[39m\u001b[39mself\u001b[39m\u001b[39m.\u001b[39mlogger, \u001b[39m*\u001b[39m\u001b[39m*\u001b[39martifact_keys\n\u001b[0;32m     97\u001b[0m )\n\u001b[0;32m     99\u001b[0m \u001b[39m# placeholders\u001b[39;00m\n\u001b[0;32m    100\u001b[0m \u001b[39m# metadata maps that can be at different resolutions\u001b[39;00m\n\u001b[0;32m    101\u001b[0m \u001b[39m# TODO do we want read/write maps?\u001b[39;00m\n\u001b[0;32m    102\u001b[0m \u001b[39mself\u001b[39m\u001b[39m.\u001b[39m_config \u001b[39m=\u001b[39m \u001b[39mdict\u001b[39m()  \u001b[39m# nested dictionary\u001b[39;00m\n",
      "File \u001b[1;32mc:\\Users\\rautenba\\AppData\\Local\\mambaforge\\envs\\hydromt-fiat-dev\\lib\\site-packages\\hydromt\\data_catalog.py:118\u001b[0m, in \u001b[0;36mDataCatalog.__init__\u001b[1;34m(self, data_libs, fallback_lib, logger, cache, cache_dir, **artifact_keys)\u001b[0m\n\u001b[0;32m    116\u001b[0m \u001b[39mfor\u001b[39;00m name_or_path \u001b[39min\u001b[39;00m data_libs:\n\u001b[0;32m    117\u001b[0m     \u001b[39mif\u001b[39;00m \u001b[39mstr\u001b[39m(name_or_path)\u001b[39m.\u001b[39msplit(\u001b[39m\"\u001b[39m\u001b[39m.\u001b[39m\u001b[39m\"\u001b[39m)[\u001b[39m-\u001b[39m\u001b[39m1\u001b[39m] \u001b[39min\u001b[39;00m [\u001b[39m\"\u001b[39m\u001b[39myml\u001b[39m\u001b[39m\"\u001b[39m, \u001b[39m\"\u001b[39m\u001b[39myaml\u001b[39m\u001b[39m\"\u001b[39m]:  \u001b[39m# user defined\u001b[39;00m\n\u001b[1;32m--> 118\u001b[0m         \u001b[39mself\u001b[39;49m\u001b[39m.\u001b[39;49mfrom_yml(name_or_path)\n\u001b[0;32m    119\u001b[0m     \u001b[39melse\u001b[39;00m:  \u001b[39m# predefined\u001b[39;00m\n\u001b[0;32m    120\u001b[0m         \u001b[39mself\u001b[39m\u001b[39m.\u001b[39mfrom_predefined_catalogs(name_or_path)\n",
      "File \u001b[1;32mc:\\Users\\rautenba\\AppData\\Local\\mambaforge\\envs\\hydromt-fiat-dev\\lib\\site-packages\\hydromt\\data_catalog.py:322\u001b[0m, in \u001b[0;36mDataCatalog.from_yml\u001b[1;34m(self, urlpath, root, mark_used)\u001b[0m\n\u001b[0;32m    266\u001b[0m \u001b[39m\u001b[39m\u001b[39m\"\"\"Add data sources based on yaml file.\u001b[39;00m\n\u001b[0;32m    267\u001b[0m \n\u001b[0;32m    268\u001b[0m \u001b[39mParameters\u001b[39;00m\n\u001b[1;32m   (...)\u001b[0m\n\u001b[0;32m    319\u001b[0m \u001b[39m        <zoom_level_2>: <resolution_2>\u001b[39;00m\n\u001b[0;32m    320\u001b[0m \u001b[39m\"\"\"\u001b[39;00m\n\u001b[0;32m    321\u001b[0m \u001b[39mself\u001b[39m\u001b[39m.\u001b[39mlogger\u001b[39m.\u001b[39minfo(\u001b[39mf\u001b[39m\u001b[39m\"\u001b[39m\u001b[39mParsing data catalog from \u001b[39m\u001b[39m{\u001b[39;00murlpath\u001b[39m}\u001b[39;00m\u001b[39m\"\u001b[39m)\n\u001b[1;32m--> 322\u001b[0m yml \u001b[39m=\u001b[39m _yml_from_uri_or_path(urlpath)\n\u001b[0;32m    323\u001b[0m \u001b[39m# parse metadata\u001b[39;00m\n\u001b[0;32m    324\u001b[0m meta \u001b[39m=\u001b[39m \u001b[39mdict\u001b[39m()\n",
      "File \u001b[1;32mc:\\Users\\rautenba\\AppData\\Local\\mambaforge\\envs\\hydromt-fiat-dev\\lib\\site-packages\\hydromt\\data_catalog.py:1049\u001b[0m, in \u001b[0;36m_yml_from_uri_or_path\u001b[1;34m(uri_or_path)\u001b[0m\n\u001b[0;32m   1047\u001b[0m         yml \u001b[39m=\u001b[39m yaml\u001b[39m.\u001b[39mload(r\u001b[39m.\u001b[39mtext, Loader\u001b[39m=\u001b[39myaml\u001b[39m.\u001b[39mFullLoader)\n\u001b[0;32m   1048\u001b[0m \u001b[39melse\u001b[39;00m:\n\u001b[1;32m-> 1049\u001b[0m     \u001b[39mwith\u001b[39;00m \u001b[39mopen\u001b[39;49m(uri_or_path, \u001b[39m\"\u001b[39;49m\u001b[39mr\u001b[39;49m\u001b[39m\"\u001b[39;49m) \u001b[39mas\u001b[39;00m stream:\n\u001b[0;32m   1050\u001b[0m         yml \u001b[39m=\u001b[39m yaml\u001b[39m.\u001b[39mload(stream, Loader\u001b[39m=\u001b[39myaml\u001b[39m.\u001b[39mFullLoader)\n\u001b[0;32m   1051\u001b[0m \u001b[39mreturn\u001b[39;00m yml\n",
      "\u001b[1;31mFileNotFoundError\u001b[0m: [Errno 2] No such file or directory: './hydromt_fiat_catalog_USA.yml'"
     ]
    }
   ],
   "source": [
    "fm = FiatModel(root=root, mode=\"w+\", data_libs=[data_catalog_yml], logger=logger)\n",
    "region = gpd.GeoDataFrame.from_features(_cases[\"cases\"][\"region\"], crs=4326)\n",
    "fm.build(region={\"geom\": region}, opt=_cases[\"cases\"][\"road_network\"][\"configuration\"])\n",
    "fm.write()"
   ]
  },
  {
   "cell_type": "markdown",
   "metadata": {},
   "source": [
    "# **Done!**\n",
    "Your **FIAT model** created the exposure and vulnerability files for the road network. Using that data in combination with a hazard map, the impact for the defined hazard can be computed. \n",
    "\n",
    "Let's have a look at the output!"
   ]
  }
 ],
 "metadata": {
  "kernelspec": {
   "display_name": "hydromt-fiat-dev",
   "language": "python",
   "name": "python3"
  },
  "language_info": {
   "codemirror_mode": {
    "name": "ipython",
    "version": 3
   },
   "file_extension": ".py",
   "mimetype": "text/x-python",
   "name": "python",
   "nbconvert_exporter": "python",
   "pygments_lexer": "ipython3",
   "version": "3.10.12"
  }
 },
 "nbformat": 4,
 "nbformat_minor": 2
}
