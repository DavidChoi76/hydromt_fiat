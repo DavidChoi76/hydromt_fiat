{
 "cells": [
  {
   "cell_type": "markdown",
   "metadata": {},
   "source": [
    "# **Example Road Network**"
   ]
  },
  {
   "cell_type": "markdown",
   "metadata": {},
   "source": [
    "Roads are vital to the infrastructure of a community and, when blocked and/or (partially) destroyed \n",
    "cause numerous issues for various players. Therefore, it is imperative to assess the impact of loss in mobility when analyzing flood events and other hazards. \n",
    "\n",
    "FIAT offers a tool to compute the monetary impact of the road blockage/destruction based on the **extent of the hazard, the road type (e.g. motorway, trunk, primary roads), and the number of lanes.**\n",
    "\n",
    "Users can either download data from Open Street Map (OSM) through the tool or ingest their own road network data.\n",
    "\n",
    "OSM offers detailed information about the road network such as the roadtype and the number of lanes, which are obligatory to calculate the flood impact. **This notebook will cover the road impact assessment based on OSM.**\n",
    "\n",
    ">*Note: If the user wants to use their own data they musst assure to deliver the **number of lanes per segment***."
   ]
  },
  {
   "cell_type": "markdown",
   "metadata": {},
   "source": [
    "## Let's get started!"
   ]
  },
  {
   "cell_type": "markdown",
   "metadata": {},
   "source": [
    "# **Step 1**: Import required packages"
   ]
  },
  {
   "cell_type": "code",
   "execution_count": 5,
   "metadata": {},
   "outputs": [],
   "source": [
    "# First, all required packages must be installed.\n",
    "\n",
    "from hydromt_fiat.fiat import FiatModel\n",
    "from hydromt.log import setuplog\n",
    "from pathlib import Path\n",
    "import pytest\n",
    "import shutil\n",
    "import geopandas as gpd\n",
    "import pandas as pd\n",
    "import os \n",
    "import json\n",
    "import yaml"
   ]
  },
  {
   "cell_type": "markdown",
   "metadata": {},
   "source": [
    "# **Step 2:** Define the study area"
   ]
  },
  {
   "cell_type": "markdown",
   "metadata": {},
   "source": [
    "FIAT requires the input of a region to download the OSM road dataset. This can be done via vectorfile of a polygon or GeoJSON object. We recommened to download the region from [Geojson.io](https://geojson.io/#map=2/0/20). \n",
    "\n",
    "Draw a polygon on the map and create a polygon from the GeoJson Object:"
   ]
  },
  {
   "cell_type": "markdown",
   "metadata": {},
   "source": [
    "# **Step 3:** Create a configuration file "
   ]
  },
  {
   "cell_type": "markdown",
   "metadata": {},
   "source": [
    "FIAT requires a configuration file in form of a *yaml*-file or a dictionary, in which the model parameters are defined. \n",
    "The required fields are:\n",
    "  \n",
    "*setup_road_vulnerability:*\n",
    "- **vertical_unit**:Unit of vertical inundation (feet or meter)\n",
    "- **threshold_value**: Threshold inundation height at which road is fully destroyed \n",
    "- **min_hazard_value**: minimum inundation height (recommended: 0)\n",
    "- **max_hazard_value**: maximum inundation height (e.g. 6 meters) \n",
    "- **step_hazard_value**: discrete levels or steps of inundation height\n",
    "\n",
    "*setup_exposure_roads:*\n",
    "- **roads_fn**: File path to road network file or OSM data (for OSM data use: \"OSM\")\n",
    "- **road_types**: Road type keys from OSM (e.g. \"motorway\", \"primary\")\n",
    "- **road_damage**: \"default_road_max_potential_damages\",\n",
    "- **unit**: Unit of road length (feet or meter)\n",
    "\n",
    "*region:*\n",
    "- **region**: pre-defined region in form of a dictionary or shapely polygon"
   ]
  },
  {
   "cell_type": "markdown",
   "metadata": {},
   "source": [
    "## **Step 3.1:** Load the information of the <em>yaml</em> file"
   ]
  },
  {
   "cell_type": "markdown",
   "metadata": {},
   "source": [
    "The *yaml* file is located in the \"example\"/ \"data\" /  - folder. The information in the file are converted into a python dictionary. </p>\n",
    "<p><em>Note: Instead of loading a yaml file it is possible to create a python dictionary directly, built upon the structure seen below.</em></p>"
   ]
  },
  {
   "cell_type": "code",
   "execution_count": 111,
   "metadata": {},
   "outputs": [
    {
     "name": "stdout",
     "output_type": "stream",
     "text": [
      "{\n",
      "    \"cases\": {\n",
      "        \"new_root\": \"C:/Users/rautenba/hydromt_fiat/examples/data/road_network/\",\n",
      "        \"roads_from_OSM\": {\n",
      "            \"data_catalogue\": \"C:/Users/rautenba/hydromt_fiat/examples/data/road_network/hydromt_fiat_catalog_USA.yml\",\n",
      "            \"dir\": \"test_roads_from_OSM\"\n",
      "        },\n",
      "        \"road_network\": {\n",
      "            \"new_root\": \"./data/road_network/output/road_network_example\",\n",
      "            \"configuration\": {\n",
      "                \"setup_road_vulnerability\": {\n",
      "                    \"vertical_unit\": \"feet\",\n",
      "                    \"threshold_value\": 0.6,\n",
      "                    \"min_hazard_value\": 0,\n",
      "                    \"max_hazard_value\": 10,\n",
      "                    \"step_hazard_value\": 1\n",
      "                },\n",
      "                \"setup_exposure_roads\": {\n",
      "                    \"roads_fn\": \"OSM\",\n",
      "                    \"road_types\": [\n",
      "                        \"motorway\",\n",
      "                        \"primary\",\n",
      "                        \"secondary\",\n",
      "                        \"tertiary\"\n",
      "                    ],\n",
      "                    \"road_damage\": \"default_road_max_potential_damages\",\n",
      "                    \"unit\": \"meter\"\n",
      "                }\n",
      "            }\n",
      "        },\n",
      "        \"region\": {\n",
      "            \"type\": \"FeatureCollection\",\n",
      "            \"features\": [\n",
      "                {\n",
      "                    \"type\": \"Feature\",\n",
      "                    \"properties\": {},\n",
      "                    \"geometry\": {\n",
      "                        \"type\": \"Polygon\",\n",
      "                        \"coordinates\": [\n",
      "                            [\n",
      "                                [\n",
      "                                    -79.92169686568795,\n",
      "                                    32.768208904171374\n",
      "                                ],\n",
      "                                [\n",
      "                                    -79.92169686568795,\n",
      "                                    32.77745096033627\n",
      "                                ],\n",
      "                                [\n",
      "                                    -79.94881762529997,\n",
      "                                    32.77745096033627\n",
      "                                ],\n",
      "                                [\n",
      "                                    -79.94881762529997,\n",
      "                                    32.768208904171374\n",
      "                                ],\n",
      "                                [\n",
      "                                    -79.92169686568795,\n",
      "                                    32.768208904171374\n",
      "                                ]\n",
      "                            ]\n",
      "                        ]\n",
      "                    }\n",
      "                }\n",
      "            ]\n",
      "        }\n",
      "    }\n",
      "}\n"
     ]
    }
   ],
   "source": [
    "#Let's read the yaml file with the required information \n",
    "#and set up the FIAT model for the two test cases.\n",
    "\n",
    "with open(Path(os.path.abspath(\"\")) / \"data\" / \"road_network\" / \"configuration.yml\", 'r') as file:\n",
    "    _cases = yaml.safe_load(file)\n",
    "\n",
    "print(json.dumps(_cases, indent=4, sort_keys=False))"
   ]
  },
  {
   "cell_type": "markdown",
   "metadata": {},
   "source": [
    "# **Step 4**: <strong>Define variables for the FIAT model</strong>"
   ]
  },
  {
   "cell_type": "markdown",
   "metadata": {},
   "source": [
    "Set up the root path to the FIAT model and the logger settings to re-build your model:\n",
    "- `root`: Directory path from where the neccessary data for the FIAT model is stored.  </p>\n",
    "- `logger`: The logger variable defines the frequencies of log-entries during the initialisation of the model.</p>\n",
    "\n"
   ]
  },
  {
   "cell_type": "code",
   "execution_count": 112,
   "metadata": {},
   "outputs": [
    {
     "name": "stdout",
     "output_type": "stream",
     "text": [
      "2023-10-23 15:53:39,419 - hydromt_fiat - log - INFO - HydroMT version: 0.8.0\n"
     ]
    },
    {
     "name": "stderr",
     "output_type": "stream",
     "text": [
      "INFO:hydromt_fiat:HydroMT version: 0.8.0\n"
     ]
    }
   ],
   "source": [
    "# Set up Fiat Model\n",
    "root = Path(os.path.abspath(\"\"))  / \"data\" / \"road_network\"\n",
    "\n",
    "# Set up the logger\n",
    "logger = setuplog(\"hydromt_fiat\", log_level=10)\n",
    "\n",
    "# Set up region\n",
    "region = _cases[\"cases\"][\"region\"]\n",
    "# Set up datacatalog\n",
    "data_catalog_yml = str(_cases[\"cases\"][\"roads_from_OSM\"][\"data_catalogue\"])"
   ]
  },
  {
   "cell_type": "code",
   "execution_count": 115,
   "metadata": {},
   "outputs": [
    {
     "name": "stdout",
     "output_type": "stream",
     "text": [
      "2023-10-23 15:55:04,107 - hydromt_fiat - data_catalog - INFO - Parsing data catalog from C:/Users/rautenba/hydromt_fiat/examples/data/road_network/hydromt_fiat_catalog_USA.yml\n"
     ]
    },
    {
     "name": "stderr",
     "output_type": "stream",
     "text": [
      "INFO:hydromt_fiat:Parsing data catalog from C:/Users/rautenba/hydromt_fiat/examples/data/road_network/hydromt_fiat_catalog_USA.yml\n",
      "WARNING:py.warnings:c:\\Users\\rautenba\\AppData\\Local\\mambaforge\\envs\\hydromt-fiat-dev\\lib\\site-packages\\hydromt\\data_adapter\\geodataframe.py:99: DeprecationWarning: Passing additional keyword arguments to be used by the GeoDataFrameAdapter driver is deprecated and will be removed in a future version. Please use 'driver_kwargs' instead.\n",
      "  warnings.warn(\n",
      "\n"
     ]
    },
    {
     "name": "stdout",
     "output_type": "stream",
     "text": [
      "2023-10-23 15:55:04,117 - hydromt_fiat - model_api - WARNING - Model dir already exists and files might be overwritten: c:\\Users\\rautenba\\hydromt_fiat\\examples\\data\\road_network\\exposure.\n"
     ]
    },
    {
     "name": "stderr",
     "output_type": "stream",
     "text": [
      "WARNING:hydromt_fiat:Model dir already exists and files might be overwritten: c:\\Users\\rautenba\\hydromt_fiat\\examples\\data\\road_network\\exposure.\n"
     ]
    },
    {
     "name": "stdout",
     "output_type": "stream",
     "text": [
      "2023-10-23 15:55:04,118 - hydromt_fiat - model_api - WARNING - Model dir already exists and files might be overwritten: c:\\Users\\rautenba\\hydromt_fiat\\examples\\data\\road_network\\vulnerability.\n"
     ]
    },
    {
     "name": "stderr",
     "output_type": "stream",
     "text": [
      "WARNING:hydromt_fiat:Model dir already exists and files might be overwritten: c:\\Users\\rautenba\\hydromt_fiat\\examples\\data\\road_network\\vulnerability.\n"
     ]
    },
    {
     "name": "stdout",
     "output_type": "stream",
     "text": [
      "2023-10-23 15:55:04,118 - hydromt_fiat - model_api - INFO - Initializing fiat model from hydromt_fiat (v0.2.1.dev0).\n"
     ]
    },
    {
     "name": "stderr",
     "output_type": "stream",
     "text": [
      "INFO:hydromt_fiat:Initializing fiat model from hydromt_fiat (v0.2.1.dev0).\n"
     ]
    },
    {
     "name": "stdout",
     "output_type": "stream",
     "text": [
      "2023-10-23 15:55:04,118 - hydromt_fiat - model_api - INFO - setup_region.region: {'geom':                                             geometry\n",
      "0  POLYGON ((-79.92170 32.76821, -79.92170 32.777...}\n"
     ]
    },
    {
     "name": "stderr",
     "output_type": "stream",
     "text": [
      "INFO:hydromt_fiat:setup_region.region: {'geom':                                             geometry\n",
      "0  POLYGON ((-79.92170 32.76821, -79.92170 32.777...}\n"
     ]
    },
    {
     "name": "stdout",
     "output_type": "stream",
     "text": [
      "2023-10-23 15:55:04,118 - hydromt_fiat - basin_mask - DEBUG - Parsed region (kind=geom): {'geom': 'GeoDataFrame [-79.94881763  32.7682089  -79.92169687  32.77745096] (crs = EPSG:4326)'}\n"
     ]
    },
    {
     "name": "stderr",
     "output_type": "stream",
     "text": [
      "DEBUG:hydromt_fiat:Parsed region (kind=geom): {'geom': 'GeoDataFrame [-79.94881763  32.7682089  -79.92169687  32.77745096] (crs = EPSG:4326)'}\n"
     ]
    },
    {
     "name": "stdout",
     "output_type": "stream",
     "text": [
      "2023-10-23 15:55:04,134 - hydromt_fiat - model_api - INFO - setup_road_vulnerability.vertical_unit: feet\n"
     ]
    },
    {
     "name": "stderr",
     "output_type": "stream",
     "text": [
      "INFO:hydromt_fiat:setup_road_vulnerability.vertical_unit: feet\n"
     ]
    },
    {
     "name": "stdout",
     "output_type": "stream",
     "text": [
      "2023-10-23 15:55:04,134 - hydromt_fiat - model_api - INFO - setup_road_vulnerability.threshold_value: 0.6\n"
     ]
    },
    {
     "name": "stderr",
     "output_type": "stream",
     "text": [
      "INFO:hydromt_fiat:setup_road_vulnerability.threshold_value: 0.6\n"
     ]
    },
    {
     "name": "stdout",
     "output_type": "stream",
     "text": [
      "2023-10-23 15:55:04,134 - hydromt_fiat - model_api - INFO - setup_road_vulnerability.min_hazard_value: 0\n"
     ]
    },
    {
     "name": "stderr",
     "output_type": "stream",
     "text": [
      "INFO:hydromt_fiat:setup_road_vulnerability.min_hazard_value: 0\n"
     ]
    },
    {
     "name": "stdout",
     "output_type": "stream",
     "text": [
      "2023-10-23 15:55:04,134 - hydromt_fiat - model_api - INFO - setup_road_vulnerability.max_hazard_value: 10\n"
     ]
    },
    {
     "name": "stderr",
     "output_type": "stream",
     "text": [
      "INFO:hydromt_fiat:setup_road_vulnerability.max_hazard_value: 10\n"
     ]
    },
    {
     "name": "stdout",
     "output_type": "stream",
     "text": [
      "2023-10-23 15:55:04,134 - hydromt_fiat - model_api - INFO - setup_road_vulnerability.step_hazard_value: 1\n"
     ]
    },
    {
     "name": "stderr",
     "output_type": "stream",
     "text": [
      "INFO:hydromt_fiat:setup_road_vulnerability.step_hazard_value: 1\n"
     ]
    },
    {
     "name": "stdout",
     "output_type": "stream",
     "text": [
      "2023-10-23 15:55:04,142 - hydromt_fiat - model_api - INFO - setup_exposure_roads.roads_fn: OSM\n"
     ]
    },
    {
     "name": "stderr",
     "output_type": "stream",
     "text": [
      "INFO:hydromt_fiat:setup_exposure_roads.roads_fn: OSM\n"
     ]
    },
    {
     "name": "stdout",
     "output_type": "stream",
     "text": [
      "2023-10-23 15:55:04,143 - hydromt_fiat - model_api - INFO - setup_exposure_roads.road_damage: default_road_max_potential_damages\n"
     ]
    },
    {
     "name": "stderr",
     "output_type": "stream",
     "text": [
      "INFO:hydromt_fiat:setup_exposure_roads.road_damage: default_road_max_potential_damages\n"
     ]
    },
    {
     "name": "stdout",
     "output_type": "stream",
     "text": [
      "2023-10-23 15:55:04,144 - hydromt_fiat - model_api - INFO - setup_exposure_roads.road_types: ['motorway', 'primary', 'secondary', 'tertiary']\n"
     ]
    },
    {
     "name": "stderr",
     "output_type": "stream",
     "text": [
      "INFO:hydromt_fiat:setup_exposure_roads.road_types: ['motorway', 'primary', 'secondary', 'tertiary']\n"
     ]
    },
    {
     "name": "stdout",
     "output_type": "stream",
     "text": [
      "2023-10-23 15:55:04,145 - hydromt_fiat - model_api - INFO - setup_exposure_roads.unit: meter\n"
     ]
    },
    {
     "name": "stderr",
     "output_type": "stream",
     "text": [
      "INFO:hydromt_fiat:setup_exposure_roads.unit: meter\n"
     ]
    },
    {
     "name": "stdout",
     "output_type": "stream",
     "text": [
      "2023-10-23 15:55:04,146 - hydromt_fiat - exposure_vector - INFO - Setting up roads...\n"
     ]
    },
    {
     "name": "stderr",
     "output_type": "stream",
     "text": [
      "INFO:hydromt_fiat:Setting up roads...\n"
     ]
    },
    {
     "name": "stdout",
     "output_type": "stream",
     "text": [
      "2023-10-23 15:55:04,227 - hydromt_fiat - exposure_vector - INFO - The damage function 'roads' is selected for all of the structure damage to the roads.\n"
     ]
    },
    {
     "name": "stderr",
     "output_type": "stream",
     "text": [
      "INFO:hydromt_fiat:The damage function 'roads' is selected for all of the structure damage to the roads.\n"
     ]
    },
    {
     "name": "stdout",
     "output_type": "stream",
     "text": [
      "2023-10-23 15:55:04,227 - hydromt_fiat - data_catalog - INFO - DataCatalog: Getting default_road_max_potential_damages DataFrame csv data from C:\\Users\\rautenba\\hydromt_fiat\\examples\\data\\road_network\\us_road_damage.csv\n"
     ]
    },
    {
     "name": "stderr",
     "output_type": "stream",
     "text": [
      "INFO:hydromt_fiat:DataCatalog: Getting default_road_max_potential_damages DataFrame csv data from C:\\Users\\rautenba\\hydromt_fiat\\examples\\data\\road_network\\us_road_damage.csv\n"
     ]
    },
    {
     "name": "stdout",
     "output_type": "stream",
     "text": [
      "2023-10-23 15:55:04,227 - hydromt_fiat - dataframe - INFO - DataFrame: Read csv data.\n"
     ]
    },
    {
     "name": "stderr",
     "output_type": "stream",
     "text": [
      "INFO:hydromt_fiat:DataFrame: Read csv data.\n"
     ]
    },
    {
     "name": "stdout",
     "output_type": "stream",
     "text": [
      "2023-10-23 15:55:04,243 - hydromt_fiat - exposure_vector - INFO - Setting exposure geometries...\n"
     ]
    },
    {
     "name": "stderr",
     "output_type": "stream",
     "text": [
      "INFO:hydromt_fiat:Setting exposure geometries...\n"
     ]
    },
    {
     "name": "stdout",
     "output_type": "stream",
     "text": [
      "2023-10-23 15:55:04,243 - hydromt_fiat - exposure_vector - INFO - Setting geometry name to roads...\n"
     ]
    },
    {
     "name": "stderr",
     "output_type": "stream",
     "text": [
      "INFO:hydromt_fiat:Setting geometry name to roads...\n"
     ]
    },
    {
     "name": "stdout",
     "output_type": "stream",
     "text": [
      "2023-10-23 15:55:04,243 - hydromt_fiat - fiat - INFO - Updating all data objects...\n"
     ]
    },
    {
     "name": "stderr",
     "output_type": "stream",
     "text": [
      "INFO:hydromt_fiat:Updating all data objects...\n"
     ]
    },
    {
     "name": "stdout",
     "output_type": "stream",
     "text": [
      "2023-10-23 15:55:04,243 - hydromt_fiat - model_api - ERROR - Default config file not found at c:\\Users\\rautenba\\hydromt_fiat\\examples\\data\\fiat\\settings.toml\n"
     ]
    },
    {
     "name": "stderr",
     "output_type": "stream",
     "text": [
      "ERROR:hydromt_fiat:Default config file not found at c:\\Users\\rautenba\\hydromt_fiat\\examples\\data\\fiat\\settings.toml\n"
     ]
    },
    {
     "name": "stdout",
     "output_type": "stream",
     "text": [
      "2023-10-23 15:55:04,243 - hydromt_fiat - model_api - WARNING - Replacing geom: region\n"
     ]
    },
    {
     "name": "stderr",
     "output_type": "stream",
     "text": [
      "WARNING:hydromt_fiat:Replacing geom: region\n"
     ]
    },
    {
     "name": "stdout",
     "output_type": "stream",
     "text": [
      "2023-10-23 15:55:04,243 - hydromt_fiat - fiat - INFO - Writing model data to c:\\Users\\rautenba\\hydromt_fiat\\examples\\data\\road_network\n"
     ]
    },
    {
     "name": "stderr",
     "output_type": "stream",
     "text": [
      "INFO:hydromt_fiat:Writing model data to c:\\Users\\rautenba\\hydromt_fiat\\examples\\data\\road_network\n"
     ]
    },
    {
     "name": "stdout",
     "output_type": "stream",
     "text": [
      "2023-10-23 15:55:04,243 - hydromt_fiat - model_api - INFO - Writing model config to c:\\Users\\rautenba\\hydromt_fiat\\examples\\data\\road_network\\settings.toml\n"
     ]
    },
    {
     "name": "stderr",
     "output_type": "stream",
     "text": [
      "INFO:hydromt_fiat:Writing model config to c:\\Users\\rautenba\\hydromt_fiat\\examples\\data\\road_network\\settings.toml\n"
     ]
    },
    {
     "name": "stdout",
     "output_type": "stream",
     "text": [
      "2023-10-23 15:55:04,243 - hydromt_fiat - model_api - DEBUG - Writing file exposure/region.gpkg\n"
     ]
    },
    {
     "name": "stderr",
     "output_type": "stream",
     "text": [
      "DEBUG:hydromt_fiat:Writing file exposure/region.gpkg\n"
     ]
    },
    {
     "name": "stdout",
     "output_type": "stream",
     "text": [
      "2023-10-23 15:55:04,353 - hydromt_fiat - model_api - DEBUG - Writing file exposure/roads.gpkg\n"
     ]
    },
    {
     "name": "stderr",
     "output_type": "stream",
     "text": [
      "DEBUG:hydromt_fiat:Writing file exposure/roads.gpkg\n"
     ]
    },
    {
     "name": "stdout",
     "output_type": "stream",
     "text": [
      "2023-10-23 15:55:04,453 - hydromt_fiat - fiat - INFO - Writing model exposure table file to exposure/exposure.csv.\n"
     ]
    },
    {
     "name": "stderr",
     "output_type": "stream",
     "text": [
      "INFO:hydromt_fiat:Writing model exposure table file to exposure/exposure.csv.\n"
     ]
    },
    {
     "name": "stdout",
     "output_type": "stream",
     "text": [
      "2023-10-23 15:55:04,457 - hydromt_fiat - fiat - INFO - Writing model vulnerability_curves table file to vulnerability/vulnerability_curves.csv.\n"
     ]
    },
    {
     "name": "stderr",
     "output_type": "stream",
     "text": [
      "INFO:hydromt_fiat:Writing model vulnerability_curves table file to vulnerability/vulnerability_curves.csv.\n"
     ]
    },
    {
     "name": "stdout",
     "output_type": "stream",
     "text": [
      "2023-10-23 15:55:04,460 - hydromt_fiat - fiat - INFO - Updating all data objects...\n"
     ]
    },
    {
     "name": "stderr",
     "output_type": "stream",
     "text": [
      "INFO:hydromt_fiat:Updating all data objects...\n"
     ]
    },
    {
     "name": "stdout",
     "output_type": "stream",
     "text": [
      "2023-10-23 15:55:04,461 - hydromt_fiat - model_api - WARNING - Replacing geom: roads\n"
     ]
    },
    {
     "name": "stderr",
     "output_type": "stream",
     "text": [
      "WARNING:hydromt_fiat:Replacing geom: roads\n"
     ]
    },
    {
     "name": "stdout",
     "output_type": "stream",
     "text": [
      "2023-10-23 15:55:04,462 - hydromt_fiat - model_api - WARNING - Replacing geom: region\n"
     ]
    },
    {
     "name": "stderr",
     "output_type": "stream",
     "text": [
      "WARNING:hydromt_fiat:Replacing geom: region\n"
     ]
    },
    {
     "name": "stdout",
     "output_type": "stream",
     "text": [
      "2023-10-23 15:55:04,463 - hydromt_fiat - fiat - INFO - Writing model data to c:\\Users\\rautenba\\hydromt_fiat\\examples\\data\\road_network\n"
     ]
    },
    {
     "name": "stderr",
     "output_type": "stream",
     "text": [
      "INFO:hydromt_fiat:Writing model data to c:\\Users\\rautenba\\hydromt_fiat\\examples\\data\\road_network\n"
     ]
    },
    {
     "name": "stdout",
     "output_type": "stream",
     "text": [
      "2023-10-23 15:55:04,464 - hydromt_fiat - model_api - INFO - Writing model config to c:\\Users\\rautenba\\hydromt_fiat\\examples\\data\\road_network\\settings.toml\n"
     ]
    },
    {
     "name": "stderr",
     "output_type": "stream",
     "text": [
      "INFO:hydromt_fiat:Writing model config to c:\\Users\\rautenba\\hydromt_fiat\\examples\\data\\road_network\\settings.toml\n"
     ]
    },
    {
     "name": "stdout",
     "output_type": "stream",
     "text": [
      "2023-10-23 15:55:04,465 - hydromt_fiat - model_api - DEBUG - Writing file exposure/region.gpkg\n"
     ]
    },
    {
     "name": "stderr",
     "output_type": "stream",
     "text": [
      "DEBUG:hydromt_fiat:Writing file exposure/region.gpkg\n"
     ]
    },
    {
     "name": "stdout",
     "output_type": "stream",
     "text": [
      "2023-10-23 15:55:04,547 - hydromt_fiat - model_api - DEBUG - Writing file exposure/roads.gpkg\n"
     ]
    },
    {
     "name": "stderr",
     "output_type": "stream",
     "text": [
      "DEBUG:hydromt_fiat:Writing file exposure/roads.gpkg\n"
     ]
    },
    {
     "name": "stdout",
     "output_type": "stream",
     "text": [
      "2023-10-23 15:55:04,655 - hydromt_fiat - fiat - INFO - Writing model exposure table file to exposure/exposure.csv.\n"
     ]
    },
    {
     "name": "stderr",
     "output_type": "stream",
     "text": [
      "INFO:hydromt_fiat:Writing model exposure table file to exposure/exposure.csv.\n"
     ]
    },
    {
     "name": "stdout",
     "output_type": "stream",
     "text": [
      "2023-10-23 15:55:04,660 - hydromt_fiat - fiat - INFO - Writing model vulnerability_curves table file to vulnerability/vulnerability_curves.csv.\n"
     ]
    },
    {
     "name": "stderr",
     "output_type": "stream",
     "text": [
      "INFO:hydromt_fiat:Writing model vulnerability_curves table file to vulnerability/vulnerability_curves.csv.\n"
     ]
    }
   ],
   "source": [
    "fm = FiatModel(root=root, mode=\"w+\", data_libs=[data_catalog_yml], logger=logger)\n",
    "region = gpd.GeoDataFrame.from_features(_cases[\"cases\"][\"region\"], crs=4326)\n",
    "fm.build(region={\"geom\": region}, opt=_cases[\"cases\"][\"road_network\"][\"configuration\"])\n",
    "fm.write()"
   ]
  }
 ],
 "metadata": {
  "kernelspec": {
   "display_name": "hydromt-fiat-dev",
   "language": "python",
   "name": "python3"
  },
  "language_info": {
   "codemirror_mode": {
    "name": "ipython",
    "version": 3
   },
   "file_extension": ".py",
   "mimetype": "text/x-python",
   "name": "python",
   "nbconvert_exporter": "python",
   "pygments_lexer": "ipython3",
   "version": "3.10.12"
  }
 },
 "nbformat": 4,
 "nbformat_minor": 2
}
