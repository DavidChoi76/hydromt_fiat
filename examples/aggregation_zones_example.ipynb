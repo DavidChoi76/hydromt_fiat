{
 "cells": [
  {
   "cell_type": "markdown",
   "metadata": {},
   "source": [
    "## Example Aggregation Zones"
   ]
  },
  {
   "cell_type": "code",
   "execution_count": null,
   "metadata": {
    "vscode": {
     "languageId": "plaintext"
    }
   },
   "outputs": [],
   "source": [
    "#This is a jupyter notebook to include several different aggregation zones \n",
    "#in the exposure data of your FIAT model"
   ]
  },
  {
   "cell_type": "code",
   "execution_count": null,
   "metadata": {
    "vscode": {
     "languageId": "plaintext"
    }
   },
   "outputs": [],
   "source": [
    "#Let's begin to create the yaml file with the required information to set up the FIAT model \n",
    "_cases = {\n",
    "    \"aggregation_test_1\": {\n",
    "        \"new_root\": Path(r\"C:\\Users\\rautenba\\OneDrive - Stichting Deltares\\Documents\\Projects\\FIAT\\20230927_Hydromt_Fiat_Sprint\\modelbuilder_sprint\"),\n",
    "        \"configuration\": {\n",
    "            \"setup_aggregation_areas\": {\n",
    "                \"aggregation_area_fn\": r\"C:\\Users\\rautenba\\OneDrive - Stichting Deltares\\Documents\\Projects\\FIAT\\20230927_Hydromt_Fiat_Sprint\\FIAT_model\\zones.gpkg\",\n",
    "                \"attribute_names\": \"ZONE_BASE\",\n",
    "                \"label_names\": \"Zoning_map\",\n",
    "            }\n",
    "        },\n",
    "    },"
   ]
  }
 ],
 "metadata": {
  "language_info": {
   "name": "python"
  },
  "orig_nbformat": 4
 },
 "nbformat": 4,
 "nbformat_minor": 2
}
