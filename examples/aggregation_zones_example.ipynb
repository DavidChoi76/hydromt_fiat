{
 "cells": [
  {
   "cell_type": "markdown",
   "metadata": {},
   "source": [
    "## Example Aggregation Zones"
   ]
  },
  {
   "cell_type": "code",
   "execution_count": null,
   "metadata": {},
   "outputs": [],
   "source": [
    "#This is a jupyter notebook to include several different aggregation zones \n",
    "#in the exposure data of your FIAT model"
   ]
  },
  {
   "cell_type": "markdown",
   "metadata": {},
   "source": [
    "# **Step 0**: ... Create and activate the FIAT environment with the yaml file \n",
    "---see this code "
   ]
  },
  {
   "cell_type": "markdown",
   "metadata": {},
   "source": [
    "# **Step 1**: Import required packages"
   ]
  },
  {
   "cell_type": "markdown",
   "metadata": {},
   "source": [
    "First we need to import the neccessary python packages to build the **FIAT model**"
   ]
  },
  {
   "cell_type": "code",
   "execution_count": 5,
   "metadata": {},
   "outputs": [
    {
     "ename": "ModuleNotFoundError",
     "evalue": "No module named 'hydromt_fiat'",
     "output_type": "error",
     "traceback": [
      "\u001b[1;31m---------------------------------------------------------------------------\u001b[0m",
      "\u001b[1;31mModuleNotFoundError\u001b[0m                       Traceback (most recent call last)",
      "\u001b[1;32mc:\\Users\\rautenba\\hydromt_fiat\\examples\\aggregation_zones_example.ipynb Cell 6\u001b[0m line \u001b[0;36m5\n\u001b[0;32m      <a href='vscode-notebook-cell:/c%3A/Users/rautenba/hydromt_fiat/examples/aggregation_zones_example.ipynb#W5sZmlsZQ%3D%3D?line=2'>3</a>\u001b[0m \u001b[39mfrom\u001b[39;00m \u001b[39mtyping\u001b[39;00m \u001b[39mimport\u001b[39;00m Sequence\n\u001b[0;32m      <a href='vscode-notebook-cell:/c%3A/Users/rautenba/hydromt_fiat/examples/aggregation_zones_example.ipynb#W5sZmlsZQ%3D%3D?line=3'>4</a>\u001b[0m \u001b[39mfrom\u001b[39;00m \u001b[39m_pytest\u001b[39;00m\u001b[39m.\u001b[39;00m\u001b[39mmark\u001b[39;00m\u001b[39m.\u001b[39;00m\u001b[39mstructures\u001b[39;00m \u001b[39mimport\u001b[39;00m ParameterSet\n\u001b[1;32m----> <a href='vscode-notebook-cell:/c%3A/Users/rautenba/hydromt_fiat/examples/aggregation_zones_example.ipynb#W5sZmlsZQ%3D%3D?line=4'>5</a>\u001b[0m \u001b[39mfrom\u001b[39;00m \u001b[39mhydromt_fiat\u001b[39;00m\u001b[39m.\u001b[39;00m\u001b[39mfiat\u001b[39;00m \u001b[39mimport\u001b[39;00m FiatModel\n\u001b[0;32m      <a href='vscode-notebook-cell:/c%3A/Users/rautenba/hydromt_fiat/examples/aggregation_zones_example.ipynb#W5sZmlsZQ%3D%3D?line=5'>6</a>\u001b[0m \u001b[39mfrom\u001b[39;00m \u001b[39mhydromt\u001b[39;00m\u001b[39m.\u001b[39;00m\u001b[39mlog\u001b[39;00m \u001b[39mimport\u001b[39;00m setuplog\n\u001b[0;32m      <a href='vscode-notebook-cell:/c%3A/Users/rautenba/hydromt_fiat/examples/aggregation_zones_example.ipynb#W5sZmlsZQ%3D%3D?line=6'>7</a>\u001b[0m \u001b[39mfrom\u001b[39;00m \u001b[39mpathlib\u001b[39;00m \u001b[39mimport\u001b[39;00m Path\n",
      "\u001b[1;31mModuleNotFoundError\u001b[0m: No module named 'hydromt_fiat'"
     ]
    }
   ],
   "source": [
    "#Import python packages\n",
    "\n",
    "from typing import Sequence\n",
    "from _pytest.mark.structures import ParameterSet\n",
    "from hydromt_fiat.fiat import FiatModel\n",
    "from hydromt.log import setuplog\n",
    "from pathlib import Path\n",
    "import pytest\n",
    "import geopandas as gpd\n",
    "import pandas as pd\n",
    "from hydromt_fiat.workflows.aggregation_areas import join_exposure_aggregation_areas\n",
    "from hydromt_fiat.workflows.aggregation_areas import join_exposure_aggregation_multiple_areas\n",
    "from hydromt_fiat.workflows.exposure_vector import ExposureVector\n",
    "from hydromt_fiat.workflows.vulnerability import Vulnerability\n",
    "import shutil\n",
    "%matplotlib inline"
   ]
  },
  {
   "cell_type": "markdown",
   "metadata": {},
   "source": [
    "# **Step 2**: Configure and initialize the FIAT model"
   ]
  },
  {
   "cell_type": "markdown",
   "metadata": {},
   "source": [
    "To configure and initialize the **FIAT model** refer to the **\"globals_ODM_JRC\"** notebook (https://github.com/Deltares/hydromt_fiat/blob/%2364FlexibleAggregationArea/examples/global_OSM_JRC.ipynb).  \n",
    "\n",
    "After setting up your base model come back to this notebook to include your aggregation zones. "
   ]
  },
  {
   "cell_type": "markdown",
   "metadata": {},
   "source": [
    "# **Step 3**: Specify the aggregation parameters in the yaml file "
   ]
  },
  {
   "cell_type": "markdown",
   "metadata": {},
   "source": [
    "In this example we create two testcases.First only a <strong>single</strong> aggregation zone is included in the exposure. Second  <strong>multiple</strong> aggregation zones.\n",
    "\n",
    "<p>To create a yaml file specify the following parameters</p>\n",
    "<ol>\n",
    " <li><strong>aggregation_area_fn </strong>(File path to the aggregation vector file) </li>\n",
    " <li><strong>attribute_names</strong> (name of the column that specifies the aggregation zone in the aggregation vector file(case-sensitive)) </li>\n",
    " <li><strong>label_names</strong> (desired new aggregation label name)</li>\n",
    "</ol>\n",
    "\n"
   ]
  },
  {
   "cell_type": "code",
   "execution_count": 4,
   "metadata": {},
   "outputs": [
    {
     "ename": "NameError",
     "evalue": "name 'Path' is not defined",
     "output_type": "error",
     "traceback": [
      "\u001b[1;31m---------------------------------------------------------------------------\u001b[0m",
      "\u001b[1;31mNameError\u001b[0m                                 Traceback (most recent call last)",
      "\u001b[1;32mc:\\Users\\rautenba\\hydromt_fiat\\examples\\aggregation_zones_example.ipynb Cell 11\u001b[0m line \u001b[0;36m6\n\u001b[0;32m      <a href='vscode-notebook-cell:/c%3A/Users/rautenba/hydromt_fiat/examples/aggregation_zones_example.ipynb#W4sZmlsZQ%3D%3D?line=0'>1</a>\u001b[0m \u001b[39m#Let's begin to create the yaml file for a with the required information \u001b[39;00m\n\u001b[0;32m      <a href='vscode-notebook-cell:/c%3A/Users/rautenba/hydromt_fiat/examples/aggregation_zones_example.ipynb#W4sZmlsZQ%3D%3D?line=1'>2</a>\u001b[0m \u001b[39m#to set up the FIAT model with a single aggregation zone \u001b[39;00m\n\u001b[0;32m      <a href='vscode-notebook-cell:/c%3A/Users/rautenba/hydromt_fiat/examples/aggregation_zones_example.ipynb#W4sZmlsZQ%3D%3D?line=3'>4</a>\u001b[0m _cases \u001b[39m=\u001b[39m {\n\u001b[0;32m      <a href='vscode-notebook-cell:/c%3A/Users/rautenba/hydromt_fiat/examples/aggregation_zones_example.ipynb#W4sZmlsZQ%3D%3D?line=4'>5</a>\u001b[0m     \u001b[39m\"\u001b[39m\u001b[39maggregation_test_1\u001b[39m\u001b[39m\"\u001b[39m: {\n\u001b[1;32m----> <a href='vscode-notebook-cell:/c%3A/Users/rautenba/hydromt_fiat/examples/aggregation_zones_example.ipynb#W4sZmlsZQ%3D%3D?line=5'>6</a>\u001b[0m         \u001b[39m\"\u001b[39m\u001b[39mnew_root\u001b[39m\u001b[39m\"\u001b[39m: Path(\u001b[39mr\u001b[39m\u001b[39m\"\u001b[39m\u001b[39mC:\u001b[39m\u001b[39m\\\u001b[39m\u001b[39mUsers\u001b[39m\u001b[39m\\\u001b[39m\u001b[39mrautenba\u001b[39m\u001b[39m\\\u001b[39m\u001b[39mOneDrive - Stichting Deltares\u001b[39m\u001b[39m\\\u001b[39m\u001b[39mDocuments\u001b[39m\u001b[39m\\\u001b[39m\u001b[39mProjects\u001b[39m\u001b[39m\\\u001b[39m\u001b[39mFIAT\u001b[39m\u001b[39m\\\u001b[39m\u001b[39m20230927_Hydromt_Fiat_Sprint\u001b[39m\u001b[39m\\\u001b[39m\u001b[39mmodelbuilder_sprint\u001b[39m\u001b[39m\"\u001b[39m),\n\u001b[0;32m      <a href='vscode-notebook-cell:/c%3A/Users/rautenba/hydromt_fiat/examples/aggregation_zones_example.ipynb#W4sZmlsZQ%3D%3D?line=6'>7</a>\u001b[0m         \u001b[39m\"\u001b[39m\u001b[39mconfiguration\u001b[39m\u001b[39m\"\u001b[39m: {\n\u001b[0;32m      <a href='vscode-notebook-cell:/c%3A/Users/rautenba/hydromt_fiat/examples/aggregation_zones_example.ipynb#W4sZmlsZQ%3D%3D?line=7'>8</a>\u001b[0m             \u001b[39m\"\u001b[39m\u001b[39msetup_aggregation_areas\u001b[39m\u001b[39m\"\u001b[39m: {\n\u001b[0;32m      <a href='vscode-notebook-cell:/c%3A/Users/rautenba/hydromt_fiat/examples/aggregation_zones_example.ipynb#W4sZmlsZQ%3D%3D?line=8'>9</a>\u001b[0m                 \u001b[39m\"\u001b[39m\u001b[39maggregation_area_fn\u001b[39m\u001b[39m\"\u001b[39m: \u001b[39mr\u001b[39m\u001b[39m\"\u001b[39m\u001b[39mC:\u001b[39m\u001b[39m\\\u001b[39m\u001b[39mUsers\u001b[39m\u001b[39m\\\u001b[39m\u001b[39mrautenba\u001b[39m\u001b[39m\\\u001b[39m\u001b[39mOneDrive - Stichting Deltares\u001b[39m\u001b[39m\\\u001b[39m\u001b[39mDocuments\u001b[39m\u001b[39m\\\u001b[39m\u001b[39mProjects\u001b[39m\u001b[39m\\\u001b[39m\u001b[39mFIAT\u001b[39m\u001b[39m\\\u001b[39m\u001b[39m20230927_Hydromt_Fiat_Sprint\u001b[39m\u001b[39m\\\u001b[39m\u001b[39mFIAT_model\u001b[39m\u001b[39m\\\u001b[39m\u001b[39mzones.gpkg\u001b[39m\u001b[39m\"\u001b[39m,\n\u001b[0;32m     <a href='vscode-notebook-cell:/c%3A/Users/rautenba/hydromt_fiat/examples/aggregation_zones_example.ipynb#W4sZmlsZQ%3D%3D?line=9'>10</a>\u001b[0m                 \u001b[39m\"\u001b[39m\u001b[39mattribute_names\u001b[39m\u001b[39m\"\u001b[39m: \u001b[39m\"\u001b[39m\u001b[39mZONE_BASE\u001b[39m\u001b[39m\"\u001b[39m,\n\u001b[0;32m     <a href='vscode-notebook-cell:/c%3A/Users/rautenba/hydromt_fiat/examples/aggregation_zones_example.ipynb#W4sZmlsZQ%3D%3D?line=10'>11</a>\u001b[0m                 \u001b[39m\"\u001b[39m\u001b[39mlabel_names\u001b[39m\u001b[39m\"\u001b[39m: \u001b[39m\"\u001b[39m\u001b[39mZoning_map\u001b[39m\u001b[39m\"\u001b[39m,\n\u001b[0;32m     <a href='vscode-notebook-cell:/c%3A/Users/rautenba/hydromt_fiat/examples/aggregation_zones_example.ipynb#W4sZmlsZQ%3D%3D?line=11'>12</a>\u001b[0m             }\n\u001b[0;32m     <a href='vscode-notebook-cell:/c%3A/Users/rautenba/hydromt_fiat/examples/aggregation_zones_example.ipynb#W4sZmlsZQ%3D%3D?line=12'>13</a>\u001b[0m         },\n\u001b[0;32m     <a href='vscode-notebook-cell:/c%3A/Users/rautenba/hydromt_fiat/examples/aggregation_zones_example.ipynb#W4sZmlsZQ%3D%3D?line=13'>14</a>\u001b[0m     },\n\u001b[0;32m     <a href='vscode-notebook-cell:/c%3A/Users/rautenba/hydromt_fiat/examples/aggregation_zones_example.ipynb#W4sZmlsZQ%3D%3D?line=14'>15</a>\u001b[0m     }\n",
      "\u001b[1;31mNameError\u001b[0m: name 'Path' is not defined"
     ]
    }
   ],
   "source": [
    "#Let's begin to create the yaml file for a with the required information \n",
    "#to set up the FIAT model with a single aggregation zone \n",
    "\n",
    "_cases = {\n",
    "    \"aggregation_test_1\": {\n",
    "        \"new_root\": Path(r\"C:\\Users\\rautenba\\OneDrive - Stichting Deltares\\Documents\\Projects\\FIAT\\20230927_Hydromt_Fiat_Sprint\\modelbuilder_sprint\"),\n",
    "        \"configuration\": {\n",
    "            \"setup_aggregation_areas\": {\n",
    "                \"aggregation_area_fn\": r\"C:\\Users\\rautenba\\OneDrive - Stichting Deltares\\Documents\\Projects\\FIAT\\20230927_Hydromt_Fiat_Sprint\\FIAT_model\\zones.gpkg\",\n",
    "                \"attribute_names\": \"ZONE_BASE\",\n",
    "                \"label_names\": \"Zoning_map\",\n",
    "            }\n",
    "        },\n",
    "    },\n",
    "    }"
   ]
  },
  {
   "cell_type": "markdown",
   "metadata": {},
   "source": [
    "<p><strong>Define variables:</strong></p> \n",
    "\n",
    "`root`: Directory path from where the required data for the FIAT model is stored."
   ]
  },
  {
   "cell_type": "code",
   "execution_count": 7,
   "metadata": {},
   "outputs": [
    {
     "ename": "NameError",
     "evalue": "name 'EXAMPLEDIR' is not defined",
     "output_type": "error",
     "traceback": [
      "\u001b[1;31m---------------------------------------------------------------------------\u001b[0m",
      "\u001b[1;31mNameError\u001b[0m                                 Traceback (most recent call last)",
      "\u001b[1;32mc:\\Users\\rautenba\\hydromt_fiat\\examples\\aggregation_zones_example.ipynb Cell 13\u001b[0m line \u001b[0;36m2\n\u001b[0;32m      <a href='vscode-notebook-cell:/c%3A/Users/rautenba/hydromt_fiat/examples/aggregation_zones_example.ipynb#X30sZmlsZQ%3D%3D?line=0'>1</a>\u001b[0m \u001b[39m# Set up Fiat Model\u001b[39;00m\n\u001b[1;32m----> <a href='vscode-notebook-cell:/c%3A/Users/rautenba/hydromt_fiat/examples/aggregation_zones_example.ipynb#X30sZmlsZQ%3D%3D?line=1'>2</a>\u001b[0m root \u001b[39m=\u001b[39m EXAMPLEDIR\n\u001b[0;32m      <a href='vscode-notebook-cell:/c%3A/Users/rautenba/hydromt_fiat/examples/aggregation_zones_example.ipynb#X30sZmlsZQ%3D%3D?line=2'>3</a>\u001b[0m \u001b[39mif\u001b[39;00m _cases[case][\u001b[39m\"\u001b[39m\u001b[39mnew_root\u001b[39m\u001b[39m\"\u001b[39m]\u001b[39m.\u001b[39mexists():\n\u001b[0;32m      <a href='vscode-notebook-cell:/c%3A/Users/rautenba/hydromt_fiat/examples/aggregation_zones_example.ipynb#X30sZmlsZQ%3D%3D?line=3'>4</a>\u001b[0m     shutil\u001b[39m.\u001b[39mrmtree(_cases[case][\u001b[39m\"\u001b[39m\u001b[39mnew_root\u001b[39m\u001b[39m\"\u001b[39m])\n",
      "\u001b[1;31mNameError\u001b[0m: name 'EXAMPLEDIR' is not defined"
     ]
    }
   ],
   "source": [
    "# Set up Fiat Model\n",
    "root = EXAMPLEDIR\n",
    "if _cases[case][\"new_root\"].exists():\n",
    "    shutil.rmtree(_cases[case][\"new_root\"])\n",
    "logger = setuplog(\"hydromt_fiat\", log_level=10)\n",
    "\n",
    "fm = FiatModel(root=root, mode=\"r\", logger=logger)\n",
    "fm.read()\n",
    "\n",
    "fm.build(write=False, opt=_cases[case][\"configuration\"])\n",
    "fm.set_root(_cases[case][\"new_root\"])\n",
    "fm.write()"
   ]
  }
 ],
 "metadata": {
  "kernelspec": {
   "display_name": "fiat_dev",
   "language": "python",
   "name": "python3"
  },
  "language_info": {
   "codemirror_mode": {
    "name": "ipython",
    "version": 3
   },
   "file_extension": ".py",
   "mimetype": "text/x-python",
   "name": "python",
   "nbconvert_exporter": "python",
   "pygments_lexer": "ipython3",
   "version": "3.11.5"
  },
  "orig_nbformat": 4
 },
 "nbformat": 4,
 "nbformat_minor": 2
}
