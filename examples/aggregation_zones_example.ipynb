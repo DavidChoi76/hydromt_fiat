{
 "cells": [
  {
   "cell_type": "markdown",
   "metadata": {},
   "source": [
    "## Example Aggregation Zones"
   ]
  },
  {
   "cell_type": "markdown",
   "metadata": {},
   "source": [
    "This is a jupyter notebook to create a <strong>spatial joint</strong> of the model data with multiple <strong>aggregation zones</strong>. \n",
    "<p>A basic FIAT model can be set up by following the steps from the example notebook \"global_OSM_JRC\". In this notebook the model was already initialized. So no need to follow the other notebook, unless you want to use your own data.</p>"
   ]
  },
  {
   "cell_type": "markdown",
   "metadata": {},
   "source": [
    "# **Step 0**: ... Create and activate the FIAT **environment** \n",
    "With this yaml file you can create and activate the neccessary environment, in which the notebook is running\n",
    "<p>---see this code </p>"
   ]
  },
  {
   "cell_type": "markdown",
   "metadata": {},
   "source": [
    "# **Step 1**: Import required packages"
   ]
  },
  {
   "cell_type": "markdown",
   "metadata": {},
   "source": [
    "Now we can import the neccessary python packages in our environment to build the **FIAT model**"
   ]
  },
  {
   "cell_type": "code",
   "execution_count": 5,
   "metadata": {},
   "outputs": [
    {
     "ename": "ModuleNotFoundError",
     "evalue": "No module named 'hydromt_fiat'",
     "output_type": "error",
     "traceback": [
      "\u001b[1;31m---------------------------------------------------------------------------\u001b[0m",
      "\u001b[1;31mModuleNotFoundError\u001b[0m                       Traceback (most recent call last)",
      "\u001b[1;32mc:\\Users\\rautenba\\hydromt_fiat\\examples\\aggregation_zones_example.ipynb Cell 6\u001b[0m line \u001b[0;36m5\n\u001b[0;32m      <a href='vscode-notebook-cell:/c%3A/Users/rautenba/hydromt_fiat/examples/aggregation_zones_example.ipynb#W5sZmlsZQ%3D%3D?line=2'>3</a>\u001b[0m \u001b[39mfrom\u001b[39;00m \u001b[39mtyping\u001b[39;00m \u001b[39mimport\u001b[39;00m Sequence\n\u001b[0;32m      <a href='vscode-notebook-cell:/c%3A/Users/rautenba/hydromt_fiat/examples/aggregation_zones_example.ipynb#W5sZmlsZQ%3D%3D?line=3'>4</a>\u001b[0m \u001b[39mfrom\u001b[39;00m \u001b[39m_pytest\u001b[39;00m\u001b[39m.\u001b[39;00m\u001b[39mmark\u001b[39;00m\u001b[39m.\u001b[39;00m\u001b[39mstructures\u001b[39;00m \u001b[39mimport\u001b[39;00m ParameterSet\n\u001b[1;32m----> <a href='vscode-notebook-cell:/c%3A/Users/rautenba/hydromt_fiat/examples/aggregation_zones_example.ipynb#W5sZmlsZQ%3D%3D?line=4'>5</a>\u001b[0m \u001b[39mfrom\u001b[39;00m \u001b[39mhydromt_fiat\u001b[39;00m\u001b[39m.\u001b[39;00m\u001b[39mfiat\u001b[39;00m \u001b[39mimport\u001b[39;00m FiatModel\n\u001b[0;32m      <a href='vscode-notebook-cell:/c%3A/Users/rautenba/hydromt_fiat/examples/aggregation_zones_example.ipynb#W5sZmlsZQ%3D%3D?line=5'>6</a>\u001b[0m \u001b[39mfrom\u001b[39;00m \u001b[39mhydromt\u001b[39;00m\u001b[39m.\u001b[39;00m\u001b[39mlog\u001b[39;00m \u001b[39mimport\u001b[39;00m setuplog\n\u001b[0;32m      <a href='vscode-notebook-cell:/c%3A/Users/rautenba/hydromt_fiat/examples/aggregation_zones_example.ipynb#W5sZmlsZQ%3D%3D?line=6'>7</a>\u001b[0m \u001b[39mfrom\u001b[39;00m \u001b[39mpathlib\u001b[39;00m \u001b[39mimport\u001b[39;00m Path\n",
      "\u001b[1;31mModuleNotFoundError\u001b[0m: No module named 'hydromt_fiat'"
     ]
    }
   ],
   "source": [
    "#Import python packages\n",
    "import os\n",
    "from typing import Sequence\n",
    "from _pytest.mark.structures import ParameterSet\n",
    "from hydromt_fiat.fiat import FiatModel\n",
    "from hydromt.log import setuplog\n",
    "from pathlib import Path\n",
    "import pytest\n",
    "import geopandas as gpd\n",
    "import pandas as pd\n",
    "from hydromt_fiat.workflows.aggregation_areas import join_exposure_aggregation_areas\n",
    "from hydromt_fiat.workflows.aggregation_areas import join_exposure_aggregation_multiple_areas\n",
    "from hydromt_fiat.workflows.exposure_vector import ExposureVector\n",
    "from hydromt_fiat.workflows.vulnerability import Vulnerability\n",
    "import shutil\n",
    "%matplotlib inline"
   ]
  },
  {
   "cell_type": "markdown",
   "metadata": {},
   "source": [
    "# **Step 2**: Configure and initialize the FIAT model"
   ]
  },
  {
   "cell_type": "markdown",
   "metadata": {},
   "source": [
    "In this notebook the FIAT model was already initialized and the data is stored in the \"example\"/ \"data\" / \"example_aggregation_zone\" - directory. \n",
    "\n",
    "To configure and initialize your **own** FIAT model refer to the **\"globals_ODM_JRC\"** notebook (https://github.com/Deltares/hydromt_fiat/blob/%2364FlexibleAggregationArea/examples/global_OSM_JRC.ipynb). If you do so, `do not` forget to update the folder dependencies and variables throughout this notebook according to your data.  "
   ]
  },
  {
   "cell_type": "markdown",
   "metadata": {},
   "source": [
    "# **Step 3**: Specify the aggregation parameters in the yaml file "
   ]
  },
  {
   "cell_type": "markdown",
   "metadata": {},
   "source": [
    "In this example we create two testcases.First only a <strong>single</strong> aggregation zone is included in the exposure. Second  <strong>multiple</strong> aggregation zones.\n",
    "\n",
    "<p>To create a yaml file specify the following parameters</p>\n",
    "<ol>\n",
    " <li><strong>new_root </strong>(Directory path in which the new model output should be stored) </li> \n",
    " <li><strong>aggregation_area_fn </strong>(File path to the aggregation vector file) </li>\n",
    " <li><strong>attribute_names</strong> (name of the column that specifies the aggregation zone in the aggregation vector file(case-sensitive)) </li>\n",
    " <li><strong>label_names</strong> (desired new aggregation label name)</li>\n",
    "</ol>\n",
    "\n"
   ]
  },
  {
   "cell_type": "code",
   "execution_count": 9,
   "metadata": {},
   "outputs": [],
   "source": [
    "#Insert image from aggregation zone in qgis\n",
    "#![image-2.png](attachment:image-2.png)"
   ]
  },
  {
   "cell_type": "code",
   "execution_count": 4,
   "metadata": {},
   "outputs": [
    {
     "ename": "NameError",
     "evalue": "name 'Path' is not defined",
     "output_type": "error",
     "traceback": [
      "\u001b[1;31m---------------------------------------------------------------------------\u001b[0m",
      "\u001b[1;31mNameError\u001b[0m                                 Traceback (most recent call last)",
      "\u001b[1;32mc:\\Users\\rautenba\\hydromt_fiat\\examples\\aggregation_zones_example.ipynb Cell 11\u001b[0m line \u001b[0;36m6\n\u001b[0;32m      <a href='vscode-notebook-cell:/c%3A/Users/rautenba/hydromt_fiat/examples/aggregation_zones_example.ipynb#W4sZmlsZQ%3D%3D?line=0'>1</a>\u001b[0m \u001b[39m#Let's begin to create the yaml file for a with the required information \u001b[39;00m\n\u001b[0;32m      <a href='vscode-notebook-cell:/c%3A/Users/rautenba/hydromt_fiat/examples/aggregation_zones_example.ipynb#W4sZmlsZQ%3D%3D?line=1'>2</a>\u001b[0m \u001b[39m#to set up the FIAT model with a single aggregation zone \u001b[39;00m\n\u001b[0;32m      <a href='vscode-notebook-cell:/c%3A/Users/rautenba/hydromt_fiat/examples/aggregation_zones_example.ipynb#W4sZmlsZQ%3D%3D?line=3'>4</a>\u001b[0m _cases \u001b[39m=\u001b[39m {\n\u001b[0;32m      <a href='vscode-notebook-cell:/c%3A/Users/rautenba/hydromt_fiat/examples/aggregation_zones_example.ipynb#W4sZmlsZQ%3D%3D?line=4'>5</a>\u001b[0m     \u001b[39m\"\u001b[39m\u001b[39maggregation_test_1\u001b[39m\u001b[39m\"\u001b[39m: {\n\u001b[1;32m----> <a href='vscode-notebook-cell:/c%3A/Users/rautenba/hydromt_fiat/examples/aggregation_zones_example.ipynb#W4sZmlsZQ%3D%3D?line=5'>6</a>\u001b[0m         \u001b[39m\"\u001b[39m\u001b[39mnew_root\u001b[39m\u001b[39m\"\u001b[39m: Path(\u001b[39mr\u001b[39m\u001b[39m\"\u001b[39m\u001b[39mC:\u001b[39m\u001b[39m\\\u001b[39m\u001b[39mUsers\u001b[39m\u001b[39m\\\u001b[39m\u001b[39mrautenba\u001b[39m\u001b[39m\\\u001b[39m\u001b[39mOneDrive - Stichting Deltares\u001b[39m\u001b[39m\\\u001b[39m\u001b[39mDocuments\u001b[39m\u001b[39m\\\u001b[39m\u001b[39mProjects\u001b[39m\u001b[39m\\\u001b[39m\u001b[39mFIAT\u001b[39m\u001b[39m\\\u001b[39m\u001b[39m20230927_Hydromt_Fiat_Sprint\u001b[39m\u001b[39m\\\u001b[39m\u001b[39mmodelbuilder_sprint\u001b[39m\u001b[39m\"\u001b[39m),\n\u001b[0;32m      <a href='vscode-notebook-cell:/c%3A/Users/rautenba/hydromt_fiat/examples/aggregation_zones_example.ipynb#W4sZmlsZQ%3D%3D?line=6'>7</a>\u001b[0m         \u001b[39m\"\u001b[39m\u001b[39mconfiguration\u001b[39m\u001b[39m\"\u001b[39m: {\n\u001b[0;32m      <a href='vscode-notebook-cell:/c%3A/Users/rautenba/hydromt_fiat/examples/aggregation_zones_example.ipynb#W4sZmlsZQ%3D%3D?line=7'>8</a>\u001b[0m             \u001b[39m\"\u001b[39m\u001b[39msetup_aggregation_areas\u001b[39m\u001b[39m\"\u001b[39m: {\n\u001b[0;32m      <a href='vscode-notebook-cell:/c%3A/Users/rautenba/hydromt_fiat/examples/aggregation_zones_example.ipynb#W4sZmlsZQ%3D%3D?line=8'>9</a>\u001b[0m                 \u001b[39m\"\u001b[39m\u001b[39maggregation_area_fn\u001b[39m\u001b[39m\"\u001b[39m: \u001b[39mr\u001b[39m\u001b[39m\"\u001b[39m\u001b[39mC:\u001b[39m\u001b[39m\\\u001b[39m\u001b[39mUsers\u001b[39m\u001b[39m\\\u001b[39m\u001b[39mrautenba\u001b[39m\u001b[39m\\\u001b[39m\u001b[39mOneDrive - Stichting Deltares\u001b[39m\u001b[39m\\\u001b[39m\u001b[39mDocuments\u001b[39m\u001b[39m\\\u001b[39m\u001b[39mProjects\u001b[39m\u001b[39m\\\u001b[39m\u001b[39mFIAT\u001b[39m\u001b[39m\\\u001b[39m\u001b[39m20230927_Hydromt_Fiat_Sprint\u001b[39m\u001b[39m\\\u001b[39m\u001b[39mFIAT_model\u001b[39m\u001b[39m\\\u001b[39m\u001b[39mzones.gpkg\u001b[39m\u001b[39m\"\u001b[39m,\n\u001b[0;32m     <a href='vscode-notebook-cell:/c%3A/Users/rautenba/hydromt_fiat/examples/aggregation_zones_example.ipynb#W4sZmlsZQ%3D%3D?line=9'>10</a>\u001b[0m                 \u001b[39m\"\u001b[39m\u001b[39mattribute_names\u001b[39m\u001b[39m\"\u001b[39m: \u001b[39m\"\u001b[39m\u001b[39mZONE_BASE\u001b[39m\u001b[39m\"\u001b[39m,\n\u001b[0;32m     <a href='vscode-notebook-cell:/c%3A/Users/rautenba/hydromt_fiat/examples/aggregation_zones_example.ipynb#W4sZmlsZQ%3D%3D?line=10'>11</a>\u001b[0m                 \u001b[39m\"\u001b[39m\u001b[39mlabel_names\u001b[39m\u001b[39m\"\u001b[39m: \u001b[39m\"\u001b[39m\u001b[39mZoning_map\u001b[39m\u001b[39m\"\u001b[39m,\n\u001b[0;32m     <a href='vscode-notebook-cell:/c%3A/Users/rautenba/hydromt_fiat/examples/aggregation_zones_example.ipynb#W4sZmlsZQ%3D%3D?line=11'>12</a>\u001b[0m             }\n\u001b[0;32m     <a href='vscode-notebook-cell:/c%3A/Users/rautenba/hydromt_fiat/examples/aggregation_zones_example.ipynb#W4sZmlsZQ%3D%3D?line=12'>13</a>\u001b[0m         },\n\u001b[0;32m     <a href='vscode-notebook-cell:/c%3A/Users/rautenba/hydromt_fiat/examples/aggregation_zones_example.ipynb#W4sZmlsZQ%3D%3D?line=13'>14</a>\u001b[0m     },\n\u001b[0;32m     <a href='vscode-notebook-cell:/c%3A/Users/rautenba/hydromt_fiat/examples/aggregation_zones_example.ipynb#W4sZmlsZQ%3D%3D?line=14'>15</a>\u001b[0m     }\n",
      "\u001b[1;31mNameError\u001b[0m: name 'Path' is not defined"
     ]
    }
   ],
   "source": [
    "#Let's begin to create the yaml file with the required information \n",
    "#to set up the FIAT model with a single aggregation zone \n",
    "\n",
    "_cases = {\n",
    "    \"aggregation_test_1\": {\n",
    "        \"new_root\": Path(r\"C:\\Users\\rautenba\\OneDrive - Stichting Deltares\\Documents\\Projects\\FIAT\\20230927_Hydromt_Fiat_Sprint\\modelbuilder_sprint\"),\n",
    "        \"configuration\": {\n",
    "            \"setup_aggregation_areas\": {\n",
    "                \"aggregation_area_fn\": r\"C:\\Users\\rautenba\\OneDrive - Stichting Deltares\\Documents\\Projects\\FIAT\\20230927_Hydromt_Fiat_Sprint\\FIAT_model\\zones.gpkg\",\n",
    "                \"attribute_names\": \"ZONE_BASE\",\n",
    "                \"label_names\": \"Zoning_map\",\n",
    "            }\n",
    "        },\n",
    "    },\n",
    "    }"
   ]
  },
  {
   "cell_type": "markdown",
   "metadata": {},
   "source": [
    "# **Step 4**: <strong>Define variables</strong>"
   ]
  },
  {
   "cell_type": "markdown",
   "metadata": {},
   "source": [
    "Set up the root path to the FIAT model and the logger settings to re-build your model:\n",
    "- `root`: Directory path from where the neccessary data for the FIAT model is stored.  </p>\n",
    "- `logger`: The logger variable defines the frequencies of log-entries during the initialisation of the model.</p>"
   ]
  },
  {
   "cell_type": "code",
   "execution_count": 7,
   "metadata": {},
   "outputs": [
    {
     "ename": "NameError",
     "evalue": "name 'EXAMPLEDIR' is not defined",
     "output_type": "error",
     "traceback": [
      "\u001b[1;31m---------------------------------------------------------------------------\u001b[0m",
      "\u001b[1;31mNameError\u001b[0m                                 Traceback (most recent call last)",
      "\u001b[1;32mc:\\Users\\rautenba\\hydromt_fiat\\examples\\aggregation_zones_example.ipynb Cell 13\u001b[0m line \u001b[0;36m2\n\u001b[0;32m      <a href='vscode-notebook-cell:/c%3A/Users/rautenba/hydromt_fiat/examples/aggregation_zones_example.ipynb#X30sZmlsZQ%3D%3D?line=0'>1</a>\u001b[0m \u001b[39m# Set up Fiat Model\u001b[39;00m\n\u001b[1;32m----> <a href='vscode-notebook-cell:/c%3A/Users/rautenba/hydromt_fiat/examples/aggregation_zones_example.ipynb#X30sZmlsZQ%3D%3D?line=1'>2</a>\u001b[0m root \u001b[39m=\u001b[39m EXAMPLEDIR\n\u001b[0;32m      <a href='vscode-notebook-cell:/c%3A/Users/rautenba/hydromt_fiat/examples/aggregation_zones_example.ipynb#X30sZmlsZQ%3D%3D?line=2'>3</a>\u001b[0m \u001b[39mif\u001b[39;00m _cases[case][\u001b[39m\"\u001b[39m\u001b[39mnew_root\u001b[39m\u001b[39m\"\u001b[39m]\u001b[39m.\u001b[39mexists():\n\u001b[0;32m      <a href='vscode-notebook-cell:/c%3A/Users/rautenba/hydromt_fiat/examples/aggregation_zones_example.ipynb#X30sZmlsZQ%3D%3D?line=3'>4</a>\u001b[0m     shutil\u001b[39m.\u001b[39mrmtree(_cases[case][\u001b[39m\"\u001b[39m\u001b[39mnew_root\u001b[39m\u001b[39m\"\u001b[39m])\n",
      "\u001b[1;31mNameError\u001b[0m: name 'EXAMPLEDIR' is not defined"
     ]
    }
   ],
   "source": [
    "# Set up Fiat Model\n",
    "root = Path(os.path.abspath(\"\")) / \"data\" / \"example_aggregation_zone\"\n",
    "# Set up the logger\n",
    "logger = setuplog(\"hydromt_fiat\", log_level=10)"
   ]
  },
  {
   "cell_type": "markdown",
   "metadata": {},
   "source": [
    "# **Step 5: Run the FIAT model**"
   ]
  },
  {
   "cell_type": "markdown",
   "metadata": {},
   "source": [
    "It's time to run the model with the new configuration of the aggregation zones. The output will be \n",
    "stored in the \"new_root\"-directory, which was defined beforehand. The new output will be a new exposure.csv, in which the aggregation areas are joint to the individual objects. "
   ]
  },
  {
   "cell_type": "code",
   "execution_count": null,
   "metadata": {},
   "outputs": [],
   "source": [
    "#This code allows to run the FIAT model multiple times with the same folder dependencies\n",
    "if _cases[\"aggregation_test_1\"][\"new_root\"].exists():\n",
    "    shutil.rmtree(_cases[\"aggregation_test_1\"][\"new_root\"])\n",
    "\n",
    "\n",
    "\n",
    "#Start building the new model with the new exposure output \n",
    "fm = FiatModel(root=root, mode=\"r\", logger=logger)\n",
    "fm.read()\n",
    "fm.build(write=False, opt=_cases[\"aggregation_test_1\"][\"configuration\"])\n",
    "fm.set_root(_cases[\"aggregation_test_1\"][\"new_root\"])\n",
    "fm.write()"
   ]
  },
  {
   "cell_type": "markdown",
   "metadata": {},
   "source": [
    "# **Done!**  \n",
    "Your FIAT model created a spatial joint with your original objects and the aggregation zones Let's habe a look at the output!"
   ]
  }
 ],
 "metadata": {
  "kernelspec": {
   "display_name": "fiat_dev",
   "language": "python",
   "name": "python3"
  },
  "language_info": {
   "codemirror_mode": {
    "name": "ipython",
    "version": 3
   },
   "file_extension": ".py",
   "mimetype": "text/x-python",
   "name": "python",
   "nbconvert_exporter": "python",
   "pygments_lexer": "ipython3",
   "version": "3.11.5"
  },
  "orig_nbformat": 4
 },
 "nbformat": 4,
 "nbformat_minor": 2
}
