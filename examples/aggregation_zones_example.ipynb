{
 "cells": [
  {
   "cell_type": "markdown",
   "metadata": {},
   "source": [
    "# **Example Aggregation Zones**"
   ]
  },
  {
   "cell_type": "markdown",
   "metadata": {},
   "source": [
    "In some case it is useful to group objects in specific zones to facilitate analysis and/or visualization of the model result. This jupyter notebook demonstrates how to create a **spatial joint** of the FIAT model data with single or multiple **aggregation zones**. \n",
    "<p>A basic FIAT model can be set up by following the steps from the example notebook <a href=\"(https://github.com/Deltares/hydromt_fiat/blob/%2364FlexibleAggregationArea/examples/global_OSM_JRC.ipynb)\"><em>global_OSM_JRC.ipynb</em></a>.\n",
    "\n",
    "<em>Note: In this notebook the model was already initialized. Unless the user does not wish to use own data, there is `no need` to create a new model and the user can simply continue with the example data of this notebook.</p></em>"
   ]
  },
  {
   "cell_type": "markdown",
   "metadata": {},
   "source": [
    "# **Step 0**: Create and activate the FIAT environment \n",
    "Using a <em>yaml</em> file, the neccessary environment is created and activated to run this notebook.\n",
    "<p>---see this code </p>"
   ]
  },
  {
   "cell_type": "markdown",
   "metadata": {},
   "source": [
    "# **Step 1**: Import required packages"
   ]
  },
  {
   "cell_type": "markdown",
   "metadata": {},
   "source": [
    "Now we can import the neccessary python packages in our environment to build the **FIAT model**."
   ]
  },
  {
   "cell_type": "code",
   "execution_count": 45,
   "metadata": {},
   "outputs": [],
   "source": [
    "#Import the required python packages to run this notebook. \n",
    "import os\n",
    "from typing import Sequence\n",
    "from _pytest.mark.structures import ParameterSet\n",
    "from hydromt_fiat.fiat import FiatModel\n",
    "from hydromt.log import setuplog\n",
    "from pathlib import Path\n",
    "import pytest\n",
    "import geopandas as gpd\n",
    "import pandas as pd\n",
    "from hydromt_fiat.fiat import workflows\n",
    "import json\n",
    "import hydromt_fiat\n",
    "from hydromt_fiat import workflows\n",
    "import hydromt\n",
    "from hydromt import workflows\n",
    "import yaml\n",
    "#from hydromt_fiat.workflows.exposure_vector import ExposureVector\n",
    "#from hydromt_fiat.workflows.vulnerability import Vulnerability\n",
    "#from hydromt_fiat.workflows.aggregation_areas import join_exposure_aggregation_areas\n",
    "#from hydromt_fiat.workflows.aggregation_areas import join_exposure_aggregation_multiple_areas"
   ]
  },
  {
   "cell_type": "markdown",
   "metadata": {},
   "source": [
    "# **Step 2**: Configure and initialize the FIAT model"
   ]
  },
  {
   "cell_type": "markdown",
   "metadata": {},
   "source": [
    "In this notebook the **FIAT model** was already initialized and the data is stored in the <em>\"example\"/ \"data\" / \"example_aggregation_zone\" </em> - directory. \n",
    "<p> The study area is located in Charelston, United States. Input data was obtained from **<** </p>\n",
    "\n",
    "<em> Note: To configure and initialize your **own** FIAT model refer to  <a href=\"(https://github.com/Deltares/hydromt_fiat/blob/%2364FlexibleAggregationArea/examples/global_OSM_JRC.ipynb)\"><em>global_OSM_JRC.ipynb</em></a>. If you do so, `do not` forget to update the folder dependencies and variables throughout this notebook according to your data. </em> "
   ]
  },
  {
   "cell_type": "markdown",
   "metadata": {},
   "source": [
    "# **Step 3**: Define aggregation parameters in the <em>yaml</em> file "
   ]
  },
  {
   "cell_type": "markdown",
   "metadata": {},
   "source": [
    "Two test cases are created in this jupyter notebook. First, the **spatial joint** of a **single** aggregation zone to the exposure data. Second, the **spatial joint** of **multiple** aggregation zones.\n",
    "\n",
    "The test_case configuration is saved in a <em>yaml</em> file, in which the following parameters are specified:\n",
    "- **new_root** (Directory path in which the new model output should be stored) \n",
    "- **aggregation_area_fn** (File path to the aggregation vector file) \n",
    "- **attribute_names** (name of the column that specifies the aggregation zone in the aggregation vector file(case-sensitive)) \n",
    "- **label_names** (new aggregation label name, chosen by the user)\n",
    "\n",
    "<em>In this case below, the column `\"ZONE_BASE\"`categorizes the aggregation zones in the vector file. This column name is used for `attribute_names` . <em>\n",
    "\n",
    "![attribute_name.png](img/Aggregation_zones.PNG)"
   ]
  },
  {
   "cell_type": "markdown",
   "metadata": {},
   "source": [
    "## **Step 3.1:** Load the information of the <em>yaml</em> file"
   ]
  },
  {
   "cell_type": "markdown",
   "metadata": {},
   "source": [
    "<p>The <em>yaml</em> file is located in the <em>\"example\"/ \"data\" /</em>  - folder. The information in the file are read and converted into a python dictionary. </p>\n",
    "<p><em>Note: Instead of loading a yaml file it is possible to create a python dictionary directly, built upon the structure seen below.</em></p>"
   ]
  },
  {
   "cell_type": "code",
   "execution_count": 77,
   "metadata": {},
   "outputs": [
    {
     "name": "stdout",
     "output_type": "stream",
     "text": [
      "{\n",
      "    \"cases\": {\n",
      "        \"test1_single_aggregation\": {\n",
      "            \"new_root\": \"examples/data/Aggregation_zones_example/output/aggregation_zones_test1\",\n",
      "            \"configuration\": {\n",
      "                \"setup_aggregation_areas\": {\n",
      "                    \"aggregation_area_fn\": \"examples/data/Aggregation_zones_example/Aggregation_zones/base_zones.gpkg\",\n",
      "                    \"attribute_names\": \"ZONE_BASE\",\n",
      "                    \"label_names\": \"Base_zones\"\n",
      "                }\n",
      "            }\n",
      "        },\n",
      "        \"test2_multiple_aggregation\": {\n",
      "            \"new_root\": \"examples/data/Aggregation_zones_example/output/aggregation_zones_test2\",\n",
      "            \"configuration\": {\n",
      "                \"setup_aggregation_areas\": {\n",
      "                    \"aggregation_area_fn\": [\n",
      "                        \"examples/data/Aggregation_zones_example/Aggregation_zones/base_zones.gpkg\",\n",
      "                        \"examples/data/Aggregation_zones_example/Aggregation_zones/land_use.gpkg\",\n",
      "                        \"examples/data/Aggregation_zones_example/Aggregation_zones/horse_carriage_track.gpkg\"\n",
      "                    ],\n",
      "                    \"attribute_names\": [\n",
      "                        \"ZONE_BASE\",\n",
      "                        \"LAND_USE\",\n",
      "                        \"ZoneName\"\n",
      "                    ],\n",
      "                    \"label_names\": [\n",
      "                        \"Base_zones\",\n",
      "                        \"Land_use\",\n",
      "                        \"Horse_carriage_tracks\"\n",
      "                    ]\n",
      "                }\n",
      "            }\n",
      "        }\n",
      "    }\n",
      "}\n"
     ]
    }
   ],
   "source": [
    "#Let's read the yaml file with the required information \n",
    "#and set up the FIAT model for the two test cases. \n",
    "\n",
    "with open(Path(os.path.abspath(\"\")) / \"data\" / \"aggregation_zones_example\" / \"config_aggregation.yml\", 'r') as file:\n",
    "    config_aggregation = yaml.safe_load(file)\n",
    "\n",
    "print(json.dumps(config_aggregation, indent=4, sort_keys=False))"
   ]
  },
  {
   "cell_type": "markdown",
   "metadata": {},
   "source": [
    "# **Step 4**: <strong>Define variables for the FIAT model</strong>"
   ]
  },
  {
   "cell_type": "markdown",
   "metadata": {},
   "source": [
    "Set up the root path to the FIAT model and the logger settings to re-build your model:\n",
    "- `root`: Directory path from where the neccessary data for the FIAT model is stored.  </p>\n",
    "- `logger`: The logger variable defines the frequencies of log-entries during the initialisation of the model.</p>"
   ]
  },
  {
   "cell_type": "code",
   "execution_count": 83,
   "metadata": {},
   "outputs": [
    {
     "name": "stdout",
     "output_type": "stream",
     "text": [
      "2023-10-02 12:27:00,250 - hydromt_fiat - log - INFO - HydroMT version: 0.8.0\n"
     ]
    }
   ],
   "source": [
    "# Set up Fiat Model\n",
    "root = Path(os.path.abspath(\"\")) / \"data\" / \"aggregation_zones_example\"\n",
    "# Set up the logger\n",
    "logger = setuplog(\"hydromt_fiat\", log_level=10)"
   ]
  },
  {
   "cell_type": "markdown",
   "metadata": {},
   "source": [
    "# **Step 5: Run the FIAT model**"
   ]
  },
  {
   "cell_type": "markdown",
   "metadata": {},
   "source": [
    "It's time to run the model with the new configuration of the aggregation zones. The output will be \n",
    "stored in the prior defined <em>`\"new_root\"`</em> - directory. The output will be a **new <em>exposure.csv</em>**, in which each object is assigned **spatially** to an aggregation zone. "
   ]
  },
  {
   "cell_type": "code",
   "execution_count": 84,
   "metadata": {},
   "outputs": [
    {
     "name": "stdout",
     "output_type": "stream",
     "text": [
      "2023-10-02 12:27:02,746 - hydromt_fiat - log - DEBUG - Appending log messages to file c:\\Users\\rautenba\\hydromt_fiat\\examples\\data\\aggregation_zones_example\\hydromt.log.\n",
      "2023-10-02 12:27:02,746 - hydromt_fiat - model_api - INFO - Initializing fiat model from hydromt_fiat (v0.2.0).\n",
      "2023-10-02 12:27:02,746 - hydromt_fiat - fiat - INFO - Reading model data from c:\\Users\\rautenba\\hydromt_fiat\\examples\\data\\aggregation_zones_example\n",
      "2023-10-02 12:27:02,746 - hydromt_fiat - model_api - ERROR - Model config file not found at c:\\Users\\rautenba\\hydromt_fiat\\examples\\data\\aggregation_zones_example\\fiat_configuration.ini\n",
      "2023-10-02 12:27:02,746 - hydromt_fiat - model_api - ERROR - Model config file not found at c:\\Users\\rautenba\\hydromt_fiat\\examples\\data\\aggregation_zones_example\\fiat_configuration.ini\n"
     ]
    },
    {
     "ename": "TypeError",
     "evalue": "'NoneType' object is not iterable",
     "output_type": "error",
     "traceback": [
      "\u001b[1;31m---------------------------------------------------------------------------\u001b[0m",
      "\u001b[1;31mTypeError\u001b[0m                                 Traceback (most recent call last)",
      "\u001b[1;32mc:\\Users\\rautenba\\hydromt_fiat\\examples\\aggregation_zones_example.ipynb Cell 17\u001b[0m line \u001b[0;36m3\n\u001b[0;32m      <a href='vscode-notebook-cell:/c%3A/Users/rautenba/hydromt_fiat/examples/aggregation_zones_example.ipynb#Y101sZmlsZQ%3D%3D?line=0'>1</a>\u001b[0m \u001b[39m#Start building the new model with the new exposure output \u001b[39;00m\n\u001b[0;32m      <a href='vscode-notebook-cell:/c%3A/Users/rautenba/hydromt_fiat/examples/aggregation_zones_example.ipynb#Y101sZmlsZQ%3D%3D?line=1'>2</a>\u001b[0m fm \u001b[39m=\u001b[39m FiatModel(root\u001b[39m=\u001b[39mroot, mode\u001b[39m=\u001b[39m\u001b[39m\"\u001b[39m\u001b[39mr\u001b[39m\u001b[39m\"\u001b[39m, logger\u001b[39m=\u001b[39mlogger)\n\u001b[1;32m----> <a href='vscode-notebook-cell:/c%3A/Users/rautenba/hydromt_fiat/examples/aggregation_zones_example.ipynb#Y101sZmlsZQ%3D%3D?line=2'>3</a>\u001b[0m fm\u001b[39m.\u001b[39;49mread()\n\u001b[0;32m      <a href='vscode-notebook-cell:/c%3A/Users/rautenba/hydromt_fiat/examples/aggregation_zones_example.ipynb#Y101sZmlsZQ%3D%3D?line=3'>4</a>\u001b[0m fm\u001b[39m.\u001b[39mbuild(write\u001b[39m=\u001b[39m\u001b[39mFalse\u001b[39;00m, opt\u001b[39m=\u001b[39mconfig_aggregation[\u001b[39m\"\u001b[39m\u001b[39mcases\u001b[39m\u001b[39m\"\u001b[39m][\u001b[39m\"\u001b[39m\u001b[39mtest1_single_aggregation\u001b[39m\u001b[39m\"\u001b[39m][\u001b[39m\"\u001b[39m\u001b[39mconfiguration\u001b[39m\u001b[39m\"\u001b[39m])\n\u001b[0;32m      <a href='vscode-notebook-cell:/c%3A/Users/rautenba/hydromt_fiat/examples/aggregation_zones_example.ipynb#Y101sZmlsZQ%3D%3D?line=4'>5</a>\u001b[0m fm\u001b[39m.\u001b[39mset_root(config_aggregation[\u001b[39m\"\u001b[39m\u001b[39mcases\u001b[39m\u001b[39m\"\u001b[39m][\u001b[39m\"\u001b[39m\u001b[39mtest1_single_aggregation\u001b[39m\u001b[39m\"\u001b[39m][\u001b[39m\"\u001b[39m\u001b[39mnew_root\u001b[39m\u001b[39m\"\u001b[39m])\n",
      "File \u001b[1;32mc:\\Users\\rautenba\\AppData\\Local\\mambaforge\\envs\\fiat_dev\\Lib\\site-packages\\hydromt_fiat\\fiat.py:690\u001b[0m, in \u001b[0;36mFiatModel.read\u001b[1;34m(self)\u001b[0m\n\u001b[0;32m    688\u001b[0m \u001b[39mself\u001b[39m\u001b[39m.\u001b[39mlogger\u001b[39m.\u001b[39minfo(\u001b[39mf\u001b[39m\u001b[39m\"\u001b[39m\u001b[39mReading model data from \u001b[39m\u001b[39m{\u001b[39;00m\u001b[39mself\u001b[39m\u001b[39m.\u001b[39mroot\u001b[39m}\u001b[39;00m\u001b[39m\"\u001b[39m)\n\u001b[0;32m    689\u001b[0m \u001b[39mself\u001b[39m\u001b[39m.\u001b[39mread_config()\n\u001b[1;32m--> 690\u001b[0m \u001b[39mself\u001b[39;49m\u001b[39m.\u001b[39;49mread_staticmaps()\n\u001b[0;32m    691\u001b[0m \u001b[39mself\u001b[39m\u001b[39m.\u001b[39mread_staticgeoms()\n",
      "File \u001b[1;32mc:\\Users\\rautenba\\AppData\\Local\\mambaforge\\envs\\fiat_dev\\Lib\\site-packages\\hydromt_fiat\\fiat.py:729\u001b[0m, in \u001b[0;36mFiatModel.read_staticmaps\u001b[1;34m(self)\u001b[0m\n\u001b[0;32m    726\u001b[0m     \u001b[39mself\u001b[39m\u001b[39m.\u001b[39m_staticmaps \u001b[39m=\u001b[39m xr\u001b[39m.\u001b[39mDataset()\n\u001b[0;32m    728\u001b[0m \u001b[39m# Read the hazard maps.\u001b[39;00m\n\u001b[1;32m--> 729\u001b[0m \u001b[39mfor\u001b[39;00m hazard_fn \u001b[39min\u001b[39;00m [\n\u001b[0;32m    730\u001b[0m     j[\u001b[39m\"\u001b[39m\u001b[39mmap_fn\u001b[39m\u001b[39m\"\u001b[39m]\n\u001b[0;32m    731\u001b[0m     \u001b[39mfor\u001b[39;00m i \u001b[39min\u001b[39;00m \u001b[39mself\u001b[39m\u001b[39m.\u001b[39mget_config(\u001b[39m\"\u001b[39m\u001b[39mhazard\u001b[39m\u001b[39m\"\u001b[39m)\n\u001b[0;32m    732\u001b[0m     \u001b[39mfor\u001b[39;00m j \u001b[39min\u001b[39;00m \u001b[39mself\u001b[39m\u001b[39m.\u001b[39mget_config(\u001b[39m\"\u001b[39m\u001b[39mhazard\u001b[39m\u001b[39m\"\u001b[39m, i)\u001b[39m.\u001b[39mvalues()\n\u001b[0;32m    733\u001b[0m ]:\n\u001b[0;32m    734\u001b[0m     \u001b[39mif\u001b[39;00m \u001b[39mnot\u001b[39;00m hazard_fn\u001b[39m.\u001b[39mis_file():\n\u001b[0;32m    735\u001b[0m         \u001b[39mraise\u001b[39;00m \u001b[39mValueError\u001b[39;00m(\u001b[39mf\u001b[39m\u001b[39m\"\u001b[39m\u001b[39mCould not find the hazard map: \u001b[39m\u001b[39m{\u001b[39;00mhazard_fn\u001b[39m}\u001b[39;00m\u001b[39m.\u001b[39m\u001b[39m\"\u001b[39m)\n",
      "\u001b[1;31mTypeError\u001b[0m: 'NoneType' object is not iterable"
     ]
    }
   ],
   "source": [
    "#Start running the new model with the new exposure output \n",
    "fm = FiatModel(root=root, mode=\"r\", logger=logger)\n",
    "fm.read()\n",
    "fm.build(write=False, opt=config_aggregation[\"cases\"][\"test1_single_aggregation\"][\"configuration\"])\n",
    "fm.set_root(config_aggregation[\"cases\"][\"test1_single_aggregation\"][\"new_root\"])\n",
    "fm.write()"
   ]
  },
  {
   "cell_type": "markdown",
   "metadata": {},
   "source": [
    "# **Done!**  \n",
    "Your **FIAT model** created a **spatial joint** with your original objects and the aggregation zones. <p>Let's have a look at the output!</p>"
   ]
  },
  {
   "cell_type": "code",
   "execution_count": null,
   "metadata": {},
   "outputs": [],
   "source": []
  }
 ],
 "metadata": {
  "kernelspec": {
   "display_name": "fiat_dev",
   "language": "python",
   "name": "python3"
  },
  "language_info": {
   "codemirror_mode": {
    "name": "ipython",
    "version": 3
   },
   "file_extension": ".py",
   "mimetype": "text/x-python",
   "name": "python",
   "nbconvert_exporter": "python",
   "pygments_lexer": "ipython3",
   "version": "3.11.5"
  },
  "orig_nbformat": 4
 },
 "nbformat": 4,
 "nbformat_minor": 2
}
